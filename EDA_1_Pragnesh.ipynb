{
 "cells": [
  {
   "cell_type": "markdown",
   "metadata": {
    "id": "txCIAUInHiJa"
   },
   "source": [
    "# Exploratory Data Analysis"
   ]
  },
  {
   "cell_type": "code",
   "execution_count": 3,
   "metadata": {
    "executionInfo": {
     "elapsed": 4,
     "status": "ok",
     "timestamp": 1670814224282,
     "user": {
      "displayName": "ANANYA GHOSH",
      "userId": "07636421272032694955"
     },
     "user_tz": -330
    },
    "id": "wo3F3kLrHiJf"
   },
   "outputs": [],
   "source": [
    "#load the libraries\n",
    "import pandas as pd\n",
    "# import numpy as np\n",
    "# import matplotlib.pyplot as plt"
   ]
  },
  {
   "cell_type": "code",
   "execution_count": null,
   "metadata": {
    "colab": {
     "base_uri": "https://localhost:8080/",
     "height": 74
    },
    "executionInfo": {
     "elapsed": 15548,
     "status": "ok",
     "timestamp": 1670391892841,
     "user": {
      "displayName": "ANANYA GHOSH",
      "userId": "07636421272032694955"
     },
     "user_tz": -330
    },
    "id": "tN9-2GL_HiJf",
    "outputId": "c0f3b200-9722-4dcf-e96d-6fc3235459f2"
   },
   "outputs": [],
   "source": []
  },
  {
   "cell_type": "code",
   "execution_count": 4,
   "metadata": {
    "colab": {
     "base_uri": "https://localhost:8080/",
     "height": 206
    },
    "executionInfo": {
     "elapsed": 380,
     "status": "ok",
     "timestamp": 1670391895058,
     "user": {
      "displayName": "ANANYA GHOSH",
      "userId": "07636421272032694955"
     },
     "user_tz": -330
    },
    "id": "XvbDEftATXwa",
    "outputId": "88b595fd-898b-48fa-f6c8-ef9087c3c653",
    "scrolled": true
   },
   "outputs": [
    {
     "data": {
      "text/html": [
       "<div>\n",
       "<style scoped>\n",
       "    .dataframe tbody tr th:only-of-type {\n",
       "        vertical-align: middle;\n",
       "    }\n",
       "\n",
       "    .dataframe tbody tr th {\n",
       "        vertical-align: top;\n",
       "    }\n",
       "\n",
       "    .dataframe thead th {\n",
       "        text-align: right;\n",
       "    }\n",
       "</style>\n",
       "<table border=\"1\" class=\"dataframe\">\n",
       "  <thead>\n",
       "    <tr style=\"text-align: right;\">\n",
       "      <th></th>\n",
       "      <th>Unnamed: 0</th>\n",
       "      <th>Ozone</th>\n",
       "      <th>Solar.R</th>\n",
       "      <th>Wind</th>\n",
       "      <th>Temp C</th>\n",
       "      <th>Month</th>\n",
       "      <th>Day</th>\n",
       "      <th>Year</th>\n",
       "      <th>Temp</th>\n",
       "      <th>Weather</th>\n",
       "    </tr>\n",
       "  </thead>\n",
       "  <tbody>\n",
       "    <tr>\n",
       "      <th>0</th>\n",
       "      <td>1</td>\n",
       "      <td>41.0</td>\n",
       "      <td>190.0</td>\n",
       "      <td>7.4</td>\n",
       "      <td>67</td>\n",
       "      <td>5</td>\n",
       "      <td>1</td>\n",
       "      <td>2010</td>\n",
       "      <td>67</td>\n",
       "      <td>S</td>\n",
       "    </tr>\n",
       "    <tr>\n",
       "      <th>1</th>\n",
       "      <td>2</td>\n",
       "      <td>36.0</td>\n",
       "      <td>118.0</td>\n",
       "      <td>8.0</td>\n",
       "      <td>72</td>\n",
       "      <td>5</td>\n",
       "      <td>2</td>\n",
       "      <td>2010</td>\n",
       "      <td>72</td>\n",
       "      <td>C</td>\n",
       "    </tr>\n",
       "    <tr>\n",
       "      <th>2</th>\n",
       "      <td>3</td>\n",
       "      <td>12.0</td>\n",
       "      <td>149.0</td>\n",
       "      <td>12.6</td>\n",
       "      <td>74</td>\n",
       "      <td>5</td>\n",
       "      <td>3</td>\n",
       "      <td>2010</td>\n",
       "      <td>74</td>\n",
       "      <td>PS</td>\n",
       "    </tr>\n",
       "    <tr>\n",
       "      <th>3</th>\n",
       "      <td>4</td>\n",
       "      <td>18.0</td>\n",
       "      <td>313.0</td>\n",
       "      <td>11.5</td>\n",
       "      <td>62</td>\n",
       "      <td>5</td>\n",
       "      <td>4</td>\n",
       "      <td>2010</td>\n",
       "      <td>62</td>\n",
       "      <td>S</td>\n",
       "    </tr>\n",
       "    <tr>\n",
       "      <th>4</th>\n",
       "      <td>5</td>\n",
       "      <td>NaN</td>\n",
       "      <td>NaN</td>\n",
       "      <td>14.3</td>\n",
       "      <td>56</td>\n",
       "      <td>5</td>\n",
       "      <td>5</td>\n",
       "      <td>2010</td>\n",
       "      <td>56</td>\n",
       "      <td>S</td>\n",
       "    </tr>\n",
       "  </tbody>\n",
       "</table>\n",
       "</div>"
      ],
      "text/plain": [
       "   Unnamed: 0  Ozone  Solar.R  Wind Temp C Month  Day  Year  Temp Weather\n",
       "0           1   41.0    190.0   7.4     67     5    1  2010    67       S\n",
       "1           2   36.0    118.0   8.0     72     5    2  2010    72       C\n",
       "2           3   12.0    149.0  12.6     74     5    3  2010    74      PS\n",
       "3           4   18.0    313.0  11.5     62     5    4  2010    62       S\n",
       "4           5    NaN      NaN  14.3     56     5    5  2010    56       S"
      ]
     },
     "execution_count": 4,
     "metadata": {},
     "output_type": "execute_result"
    }
   ],
   "source": [
    "data = pd.read_csv(\"data_clean.csv\")# reading csv file\n",
    "data.head()"
   ]
  },
  {
   "cell_type": "code",
   "execution_count": null,
   "metadata": {},
   "outputs": [],
   "source": []
  },
  {
   "cell_type": "code",
   "execution_count": null,
   "metadata": {},
   "outputs": [],
   "source": []
  },
  {
   "cell_type": "code",
   "execution_count": null,
   "metadata": {},
   "outputs": [],
   "source": []
  },
  {
   "cell_type": "code",
   "execution_count": null,
   "metadata": {},
   "outputs": [],
   "source": []
  },
  {
   "cell_type": "code",
   "execution_count": null,
   "metadata": {},
   "outputs": [],
   "source": []
  },
  {
   "cell_type": "code",
   "execution_count": 5,
   "metadata": {},
   "outputs": [
    {
     "data": {
      "text/plain": [
       "Unnamed: 0     0\n",
       "Ozone         38\n",
       "Solar.R        7\n",
       "Wind           0\n",
       "Temp C         0\n",
       "Month          0\n",
       "Day            0\n",
       "Year           0\n",
       "Temp           0\n",
       "Weather        3\n",
       "dtype: int64"
      ]
     },
     "execution_count": 5,
     "metadata": {},
     "output_type": "execute_result"
    }
   ],
   "source": [
    "data.isnull().sum()"
   ]
  },
  {
   "cell_type": "code",
   "execution_count": 6,
   "metadata": {
    "colab": {
     "base_uri": "https://localhost:8080/"
    },
    "executionInfo": {
     "elapsed": 374,
     "status": "ok",
     "timestamp": 1670304704522,
     "user": {
      "displayName": "ANANYA GHOSH",
      "userId": "07636421272032694955"
     },
     "user_tz": -330
    },
    "id": "8PmxS-D9rllb",
    "outputId": "b715d322-3f52-4725-d53c-21a0a47d1c4a"
   },
   "outputs": [
    {
     "name": "stdout",
     "output_type": "stream",
     "text": [
      "<class 'pandas.core.frame.DataFrame'>\n",
      "RangeIndex: 158 entries, 0 to 157\n",
      "Data columns (total 10 columns):\n",
      " #   Column      Non-Null Count  Dtype  \n",
      "---  ------      --------------  -----  \n",
      " 0   Unnamed: 0  158 non-null    int64  \n",
      " 1   Ozone       120 non-null    float64\n",
      " 2   Solar.R     151 non-null    float64\n",
      " 3   Wind        158 non-null    float64\n",
      " 4   Temp C      158 non-null    object \n",
      " 5   Month       158 non-null    object \n",
      " 6   Day         158 non-null    int64  \n",
      " 7   Year        158 non-null    int64  \n",
      " 8   Temp        158 non-null    int64  \n",
      " 9   Weather     155 non-null    object \n",
      "dtypes: float64(3), int64(4), object(3)\n",
      "memory usage: 12.5+ KB\n"
     ]
    }
   ],
   "source": [
    "data.info()"
   ]
  },
  {
   "cell_type": "code",
   "execution_count": 7,
   "metadata": {
    "id": "_q8dJ0MfYNlN"
   },
   "outputs": [],
   "source": [
    "# box=data.boxplot(figsize=(5,5)) "
   ]
  },
  {
   "cell_type": "code",
   "execution_count": null,
   "metadata": {
    "colab": {
     "base_uri": "https://localhost:8080/",
     "height": 424
    },
    "executionInfo": {
     "elapsed": 439,
     "status": "ok",
     "timestamp": 1669877038015,
     "user": {
      "displayName": "ANANYA GHOSH",
      "userId": "07636421272032694955"
     },
     "user_tz": -330
    },
    "id": "Vy7pVxfsHiJg",
    "outputId": "37595c31-8879-4f03-c495-d239cd4c4ce1"
   },
   "outputs": [],
   "source": []
  },
  {
   "cell_type": "code",
   "execution_count": 8,
   "metadata": {
    "colab": {
     "base_uri": "https://localhost:8080/",
     "height": 363
    },
    "executionInfo": {
     "elapsed": 60,
     "status": "ok",
     "timestamp": 1664519218855,
     "user": {
      "displayName": "Salem Sameer Shaikh",
      "userId": "05291575250389740253"
     },
     "user_tz": -330
    },
    "id": "T9XNoLH7HiJg",
    "outputId": "69b1ac20-02ba-4be0-ff17-c3b23e1b64f4"
   },
   "outputs": [
    {
     "data": {
      "text/html": [
       "<div>\n",
       "<style scoped>\n",
       "    .dataframe tbody tr th:only-of-type {\n",
       "        vertical-align: middle;\n",
       "    }\n",
       "\n",
       "    .dataframe tbody tr th {\n",
       "        vertical-align: top;\n",
       "    }\n",
       "\n",
       "    .dataframe thead th {\n",
       "        text-align: right;\n",
       "    }\n",
       "</style>\n",
       "<table border=\"1\" class=\"dataframe\">\n",
       "  <thead>\n",
       "    <tr style=\"text-align: right;\">\n",
       "      <th></th>\n",
       "      <th>Unnamed: 0</th>\n",
       "      <th>Ozone</th>\n",
       "      <th>Solar.R</th>\n",
       "      <th>Wind</th>\n",
       "      <th>Temp C</th>\n",
       "      <th>Month</th>\n",
       "      <th>Day</th>\n",
       "      <th>Year</th>\n",
       "      <th>Temp</th>\n",
       "      <th>Weather</th>\n",
       "    </tr>\n",
       "  </thead>\n",
       "  <tbody>\n",
       "    <tr>\n",
       "      <th>148</th>\n",
       "      <td>149</td>\n",
       "      <td>30.0</td>\n",
       "      <td>193.0</td>\n",
       "      <td>6.9</td>\n",
       "      <td>70</td>\n",
       "      <td>9</td>\n",
       "      <td>26</td>\n",
       "      <td>2010</td>\n",
       "      <td>70</td>\n",
       "      <td>C</td>\n",
       "    </tr>\n",
       "    <tr>\n",
       "      <th>149</th>\n",
       "      <td>150</td>\n",
       "      <td>NaN</td>\n",
       "      <td>145.0</td>\n",
       "      <td>13.2</td>\n",
       "      <td>77</td>\n",
       "      <td>9</td>\n",
       "      <td>27</td>\n",
       "      <td>2010</td>\n",
       "      <td>77</td>\n",
       "      <td>PS</td>\n",
       "    </tr>\n",
       "    <tr>\n",
       "      <th>150</th>\n",
       "      <td>151</td>\n",
       "      <td>14.0</td>\n",
       "      <td>191.0</td>\n",
       "      <td>14.3</td>\n",
       "      <td>75</td>\n",
       "      <td>9</td>\n",
       "      <td>28</td>\n",
       "      <td>2010</td>\n",
       "      <td>75</td>\n",
       "      <td>S</td>\n",
       "    </tr>\n",
       "    <tr>\n",
       "      <th>151</th>\n",
       "      <td>152</td>\n",
       "      <td>18.0</td>\n",
       "      <td>131.0</td>\n",
       "      <td>8.0</td>\n",
       "      <td>76</td>\n",
       "      <td>9</td>\n",
       "      <td>29</td>\n",
       "      <td>2010</td>\n",
       "      <td>76</td>\n",
       "      <td>PS</td>\n",
       "    </tr>\n",
       "    <tr>\n",
       "      <th>152</th>\n",
       "      <td>153</td>\n",
       "      <td>20.0</td>\n",
       "      <td>223.0</td>\n",
       "      <td>11.5</td>\n",
       "      <td>68</td>\n",
       "      <td>9</td>\n",
       "      <td>30</td>\n",
       "      <td>2010</td>\n",
       "      <td>68</td>\n",
       "      <td>S</td>\n",
       "    </tr>\n",
       "    <tr>\n",
       "      <th>153</th>\n",
       "      <td>154</td>\n",
       "      <td>41.0</td>\n",
       "      <td>190.0</td>\n",
       "      <td>7.4</td>\n",
       "      <td>67</td>\n",
       "      <td>5</td>\n",
       "      <td>1</td>\n",
       "      <td>2010</td>\n",
       "      <td>67</td>\n",
       "      <td>C</td>\n",
       "    </tr>\n",
       "    <tr>\n",
       "      <th>154</th>\n",
       "      <td>155</td>\n",
       "      <td>30.0</td>\n",
       "      <td>193.0</td>\n",
       "      <td>6.9</td>\n",
       "      <td>70</td>\n",
       "      <td>9</td>\n",
       "      <td>26</td>\n",
       "      <td>2010</td>\n",
       "      <td>70</td>\n",
       "      <td>PS</td>\n",
       "    </tr>\n",
       "    <tr>\n",
       "      <th>155</th>\n",
       "      <td>156</td>\n",
       "      <td>NaN</td>\n",
       "      <td>145.0</td>\n",
       "      <td>13.2</td>\n",
       "      <td>77</td>\n",
       "      <td>9</td>\n",
       "      <td>27</td>\n",
       "      <td>2010</td>\n",
       "      <td>77</td>\n",
       "      <td>S</td>\n",
       "    </tr>\n",
       "    <tr>\n",
       "      <th>156</th>\n",
       "      <td>157</td>\n",
       "      <td>14.0</td>\n",
       "      <td>191.0</td>\n",
       "      <td>14.3</td>\n",
       "      <td>75</td>\n",
       "      <td>9</td>\n",
       "      <td>28</td>\n",
       "      <td>2010</td>\n",
       "      <td>75</td>\n",
       "      <td>S</td>\n",
       "    </tr>\n",
       "    <tr>\n",
       "      <th>157</th>\n",
       "      <td>158</td>\n",
       "      <td>18.0</td>\n",
       "      <td>131.0</td>\n",
       "      <td>8.0</td>\n",
       "      <td>76</td>\n",
       "      <td>9</td>\n",
       "      <td>29</td>\n",
       "      <td>2010</td>\n",
       "      <td>76</td>\n",
       "      <td>C</td>\n",
       "    </tr>\n",
       "  </tbody>\n",
       "</table>\n",
       "</div>"
      ],
      "text/plain": [
       "     Unnamed: 0  Ozone  Solar.R  Wind Temp C Month  Day  Year  Temp Weather\n",
       "148         149   30.0    193.0   6.9     70     9   26  2010    70       C\n",
       "149         150    NaN    145.0  13.2     77     9   27  2010    77      PS\n",
       "150         151   14.0    191.0  14.3     75     9   28  2010    75       S\n",
       "151         152   18.0    131.0   8.0     76     9   29  2010    76      PS\n",
       "152         153   20.0    223.0  11.5     68     9   30  2010    68       S\n",
       "153         154   41.0    190.0   7.4     67     5    1  2010    67       C\n",
       "154         155   30.0    193.0   6.9     70     9   26  2010    70      PS\n",
       "155         156    NaN    145.0  13.2     77     9   27  2010    77       S\n",
       "156         157   14.0    191.0  14.3     75     9   28  2010    75       S\n",
       "157         158   18.0    131.0   8.0     76     9   29  2010    76       C"
      ]
     },
     "execution_count": 8,
     "metadata": {},
     "output_type": "execute_result"
    }
   ],
   "source": [
    "data.tail(10)"
   ]
  },
  {
   "cell_type": "code",
   "execution_count": 9,
   "metadata": {
    "colab": {
     "base_uri": "https://localhost:8080/"
    },
    "executionInfo": {
     "elapsed": 465,
     "status": "ok",
     "timestamp": 1670304727921,
     "user": {
      "displayName": "ANANYA GHOSH",
      "userId": "07636421272032694955"
     },
     "user_tz": -330
    },
    "id": "bSbR2cRtHiJk",
    "outputId": "e50e5f21-289b-44eb-a777-9f4f19e33d1e"
   },
   "outputs": [
    {
     "name": "stdout",
     "output_type": "stream",
     "text": [
      "<class 'pandas.core.frame.DataFrame'>\n",
      "(158, 10)\n"
     ]
    }
   ],
   "source": [
    "#Data Structure \n",
    "print(type(data))\n",
    "print(data.shape)"
   ]
  },
  {
   "cell_type": "code",
   "execution_count": 10,
   "metadata": {
    "colab": {
     "base_uri": "https://localhost:8080/"
    },
    "executionInfo": {
     "elapsed": 368,
     "status": "ok",
     "timestamp": 1670304760191,
     "user": {
      "displayName": "ANANYA GHOSH",
      "userId": "07636421272032694955"
     },
     "user_tz": -330
    },
    "id": "Sm69MrZNHiJl",
    "outputId": "d1ba2639-7b5e-4795-cc93-10e1c022784c"
   },
   "outputs": [
    {
     "data": {
      "text/plain": [
       "Unnamed: 0      int64\n",
       "Ozone         float64\n",
       "Solar.R       float64\n",
       "Wind          float64\n",
       "Temp C         object\n",
       "Month          object\n",
       "Day             int64\n",
       "Year            int64\n",
       "Temp            int64\n",
       "Weather        object\n",
       "dtype: object"
      ]
     },
     "execution_count": 10,
     "metadata": {},
     "output_type": "execute_result"
    }
   ],
   "source": [
    "#data types\n",
    "data.dtypes"
   ]
  },
  {
   "cell_type": "code",
   "execution_count": 11,
   "metadata": {
    "colab": {
     "base_uri": "https://localhost:8080/",
     "height": 300
    },
    "executionInfo": {
     "elapsed": 753,
     "status": "ok",
     "timestamp": 1670304766002,
     "user": {
      "displayName": "ANANYA GHOSH",
      "userId": "07636421272032694955"
     },
     "user_tz": -330
    },
    "id": "xJA33dln7Lkn",
    "outputId": "f8fa73a5-c81f-46be-c926-d4af0f2aa70c"
   },
   "outputs": [
    {
     "data": {
      "text/html": [
       "<div>\n",
       "<style scoped>\n",
       "    .dataframe tbody tr th:only-of-type {\n",
       "        vertical-align: middle;\n",
       "    }\n",
       "\n",
       "    .dataframe tbody tr th {\n",
       "        vertical-align: top;\n",
       "    }\n",
       "\n",
       "    .dataframe thead th {\n",
       "        text-align: right;\n",
       "    }\n",
       "</style>\n",
       "<table border=\"1\" class=\"dataframe\">\n",
       "  <thead>\n",
       "    <tr style=\"text-align: right;\">\n",
       "      <th></th>\n",
       "      <th>Unnamed: 0</th>\n",
       "      <th>Ozone</th>\n",
       "      <th>Solar.R</th>\n",
       "      <th>Wind</th>\n",
       "      <th>Day</th>\n",
       "      <th>Year</th>\n",
       "      <th>Temp</th>\n",
       "    </tr>\n",
       "  </thead>\n",
       "  <tbody>\n",
       "    <tr>\n",
       "      <th>count</th>\n",
       "      <td>158.000000</td>\n",
       "      <td>120.000000</td>\n",
       "      <td>151.000000</td>\n",
       "      <td>158.000000</td>\n",
       "      <td>158.000000</td>\n",
       "      <td>158.0</td>\n",
       "      <td>158.000000</td>\n",
       "    </tr>\n",
       "    <tr>\n",
       "      <th>mean</th>\n",
       "      <td>79.500000</td>\n",
       "      <td>41.583333</td>\n",
       "      <td>185.403974</td>\n",
       "      <td>9.957595</td>\n",
       "      <td>16.006329</td>\n",
       "      <td>2010.0</td>\n",
       "      <td>77.727848</td>\n",
       "    </tr>\n",
       "    <tr>\n",
       "      <th>std</th>\n",
       "      <td>45.754781</td>\n",
       "      <td>32.620709</td>\n",
       "      <td>88.723103</td>\n",
       "      <td>3.511261</td>\n",
       "      <td>8.997166</td>\n",
       "      <td>0.0</td>\n",
       "      <td>9.377877</td>\n",
       "    </tr>\n",
       "    <tr>\n",
       "      <th>min</th>\n",
       "      <td>1.000000</td>\n",
       "      <td>1.000000</td>\n",
       "      <td>7.000000</td>\n",
       "      <td>1.700000</td>\n",
       "      <td>1.000000</td>\n",
       "      <td>2010.0</td>\n",
       "      <td>56.000000</td>\n",
       "    </tr>\n",
       "    <tr>\n",
       "      <th>25%</th>\n",
       "      <td>40.250000</td>\n",
       "      <td>18.000000</td>\n",
       "      <td>119.000000</td>\n",
       "      <td>7.400000</td>\n",
       "      <td>8.000000</td>\n",
       "      <td>2010.0</td>\n",
       "      <td>72.000000</td>\n",
       "    </tr>\n",
       "    <tr>\n",
       "      <th>50%</th>\n",
       "      <td>79.500000</td>\n",
       "      <td>30.500000</td>\n",
       "      <td>197.000000</td>\n",
       "      <td>9.700000</td>\n",
       "      <td>16.000000</td>\n",
       "      <td>2010.0</td>\n",
       "      <td>78.500000</td>\n",
       "    </tr>\n",
       "    <tr>\n",
       "      <th>75%</th>\n",
       "      <td>118.750000</td>\n",
       "      <td>61.500000</td>\n",
       "      <td>257.000000</td>\n",
       "      <td>11.875000</td>\n",
       "      <td>24.000000</td>\n",
       "      <td>2010.0</td>\n",
       "      <td>84.000000</td>\n",
       "    </tr>\n",
       "    <tr>\n",
       "      <th>max</th>\n",
       "      <td>158.000000</td>\n",
       "      <td>168.000000</td>\n",
       "      <td>334.000000</td>\n",
       "      <td>20.700000</td>\n",
       "      <td>31.000000</td>\n",
       "      <td>2010.0</td>\n",
       "      <td>97.000000</td>\n",
       "    </tr>\n",
       "  </tbody>\n",
       "</table>\n",
       "</div>"
      ],
      "text/plain": [
       "       Unnamed: 0       Ozone     Solar.R        Wind         Day    Year  \\\n",
       "count  158.000000  120.000000  151.000000  158.000000  158.000000   158.0   \n",
       "mean    79.500000   41.583333  185.403974    9.957595   16.006329  2010.0   \n",
       "std     45.754781   32.620709   88.723103    3.511261    8.997166     0.0   \n",
       "min      1.000000    1.000000    7.000000    1.700000    1.000000  2010.0   \n",
       "25%     40.250000   18.000000  119.000000    7.400000    8.000000  2010.0   \n",
       "50%     79.500000   30.500000  197.000000    9.700000   16.000000  2010.0   \n",
       "75%    118.750000   61.500000  257.000000   11.875000   24.000000  2010.0   \n",
       "max    158.000000  168.000000  334.000000   20.700000   31.000000  2010.0   \n",
       "\n",
       "             Temp  \n",
       "count  158.000000  \n",
       "mean    77.727848  \n",
       "std      9.377877  \n",
       "min     56.000000  \n",
       "25%     72.000000  \n",
       "50%     78.500000  \n",
       "75%     84.000000  \n",
       "max     97.000000  "
      ]
     },
     "execution_count": 11,
     "metadata": {},
     "output_type": "execute_result"
    }
   ],
   "source": [
    "data.describe()"
   ]
  },
  {
   "cell_type": "code",
   "execution_count": 12,
   "metadata": {
    "colab": {
     "base_uri": "https://localhost:8080/"
    },
    "executionInfo": {
     "elapsed": 54,
     "status": "ok",
     "timestamp": 1664519218857,
     "user": {
      "displayName": "Salem Sameer Shaikh",
      "userId": "05291575250389740253"
     },
     "user_tz": -330
    },
    "id": "KqE6Lyva7NXZ",
    "outputId": "6ee42039-62fc-4824-8aff-a80834d7705a"
   },
   "outputs": [
    {
     "name": "stdout",
     "output_type": "stream",
     "text": [
      "<class 'pandas.core.frame.DataFrame'>\n",
      "RangeIndex: 158 entries, 0 to 157\n",
      "Data columns (total 10 columns):\n",
      " #   Column      Non-Null Count  Dtype  \n",
      "---  ------      --------------  -----  \n",
      " 0   Unnamed: 0  158 non-null    int64  \n",
      " 1   Ozone       120 non-null    float64\n",
      " 2   Solar.R     151 non-null    float64\n",
      " 3   Wind        158 non-null    float64\n",
      " 4   Temp C      158 non-null    object \n",
      " 5   Month       158 non-null    object \n",
      " 6   Day         158 non-null    int64  \n",
      " 7   Year        158 non-null    int64  \n",
      " 8   Temp        158 non-null    int64  \n",
      " 9   Weather     155 non-null    object \n",
      "dtypes: float64(3), int64(4), object(3)\n",
      "memory usage: 12.5+ KB\n"
     ]
    }
   ],
   "source": [
    "data.info()"
   ]
  },
  {
   "cell_type": "markdown",
   "metadata": {},
   "source": [
    "### This is comment"
   ]
  },
  {
   "cell_type": "markdown",
   "metadata": {
    "id": "tN31i1h2HiJn"
   },
   "source": [
    "# Data type conversion"
   ]
  },
  {
   "cell_type": "code",
   "execution_count": 13,
   "metadata": {
    "colab": {
     "base_uri": "https://localhost:8080/"
    },
    "executionInfo": {
     "elapsed": 53,
     "status": "ok",
     "timestamp": 1664519218858,
     "user": {
      "displayName": "Salem Sameer Shaikh",
      "userId": "05291575250389740253"
     },
     "user_tz": -330
    },
    "id": "qrIOvpmOHiJp",
    "outputId": "6f37eb62-4ec6-479b-8732-dd266bb71be0"
   },
   "outputs": [
    {
     "name": "stdout",
     "output_type": "stream",
     "text": [
      "<class 'pandas.core.frame.DataFrame'>\n",
      "RangeIndex: 158 entries, 0 to 157\n",
      "Data columns (total 10 columns):\n",
      " #   Column      Non-Null Count  Dtype  \n",
      "---  ------      --------------  -----  \n",
      " 0   Unnamed: 0  158 non-null    int64  \n",
      " 1   Ozone       120 non-null    float64\n",
      " 2   Solar.R     151 non-null    float64\n",
      " 3   Wind        158 non-null    float64\n",
      " 4   Temp C      158 non-null    object \n",
      " 5   Month       158 non-null    object \n",
      " 6   Day         158 non-null    int64  \n",
      " 7   Year        158 non-null    int64  \n",
      " 8   Temp        158 non-null    int64  \n",
      " 9   Weather     155 non-null    object \n",
      "dtypes: float64(3), int64(4), object(3)\n",
      "memory usage: 12.5+ KB\n"
     ]
    }
   ],
   "source": [
    "data.info() "
   ]
  },
  {
   "cell_type": "code",
   "execution_count": 14,
   "metadata": {},
   "outputs": [
    {
     "data": {
      "text/plain": [
       "0"
      ]
     },
     "execution_count": 14,
     "metadata": {},
     "output_type": "execute_result"
    }
   ],
   "source": [
    "data['Month'].isnull().sum()"
   ]
  },
  {
   "cell_type": "code",
   "execution_count": 15,
   "metadata": {},
   "outputs": [
    {
     "data": {
      "text/plain": [
       "38"
      ]
     },
     "execution_count": 15,
     "metadata": {},
     "output_type": "execute_result"
    }
   ],
   "source": [
    "data['Ozone'].isnull().sum()"
   ]
  },
  {
   "cell_type": "code",
   "execution_count": 16,
   "metadata": {},
   "outputs": [
    {
     "data": {
      "text/plain": [
       "0       5\n",
       "1       5\n",
       "2       5\n",
       "3       5\n",
       "4       5\n",
       "5       5\n",
       "6       5\n",
       "7       5\n",
       "8       5\n",
       "9       5\n",
       "10      5\n",
       "11      5\n",
       "12      5\n",
       "13      5\n",
       "14      5\n",
       "15      5\n",
       "16      5\n",
       "17      5\n",
       "18      5\n",
       "19      5\n",
       "20      5\n",
       "21      5\n",
       "22      5\n",
       "23    May\n",
       "24      5\n",
       "Name: Month, dtype: object"
      ]
     },
     "execution_count": 16,
     "metadata": {},
     "output_type": "execute_result"
    }
   ],
   "source": [
    "data['Month'].head(25) # This shows that one entry of May instead of 5 , we need to handle this."
   ]
  },
  {
   "cell_type": "code",
   "execution_count": 17,
   "metadata": {},
   "outputs": [],
   "source": [
    "# following line will show an error\n",
    "# data['Month']=pd.to_numeric(data['Month'])"
   ]
  },
  {
   "cell_type": "code",
   "execution_count": 18,
   "metadata": {},
   "outputs": [],
   "source": [
    "data['Month']=pd.to_numeric(data['Month'],errors='coerce')"
   ]
  },
  {
   "cell_type": "code",
   "execution_count": 19,
   "metadata": {
    "id": "JGs0fEOiHiJv"
   },
   "outputs": [],
   "source": [
    "data['Month']=pd.to_numeric(data['Month'],errors='coerce') #[1,1.5,NAN] january NA\n",
    "data['Temp C']=pd.to_numeric(data['Temp C'],errors='coerce')# coerce will introduce NA values for non numeric data in the columns\n",
    "data['Weather']=data['Weather'].astype('category')           #data['Wind']=data['Wind'].astype('int64')"
   ]
  },
  {
   "cell_type": "code",
   "execution_count": 20,
   "metadata": {
    "colab": {
     "base_uri": "https://localhost:8080/"
    },
    "executionInfo": {
     "elapsed": 586,
     "status": "ok",
     "timestamp": 1670304926830,
     "user": {
      "displayName": "ANANYA GHOSH",
      "userId": "07636421272032694955"
     },
     "user_tz": -330
    },
    "id": "3Wh-Lj1GHiJ0",
    "outputId": "37bbff71-0b83-4d6d-b2aa-59e966c80e0a"
   },
   "outputs": [
    {
     "name": "stdout",
     "output_type": "stream",
     "text": [
      "<class 'pandas.core.frame.DataFrame'>\n",
      "RangeIndex: 158 entries, 0 to 157\n",
      "Data columns (total 10 columns):\n",
      " #   Column      Non-Null Count  Dtype   \n",
      "---  ------      --------------  -----   \n",
      " 0   Unnamed: 0  158 non-null    int64   \n",
      " 1   Ozone       120 non-null    float64 \n",
      " 2   Solar.R     151 non-null    float64 \n",
      " 3   Wind        158 non-null    float64 \n",
      " 4   Temp C      157 non-null    float64 \n",
      " 5   Month       157 non-null    float64 \n",
      " 6   Day         158 non-null    int64   \n",
      " 7   Year        158 non-null    int64   \n",
      " 8   Temp        158 non-null    int64   \n",
      " 9   Weather     155 non-null    category\n",
      "dtypes: category(1), float64(5), int64(4)\n",
      "memory usage: 11.5 KB\n"
     ]
    }
   ],
   "source": [
    "data.info()"
   ]
  },
  {
   "cell_type": "markdown",
   "metadata": {
    "id": "8968iyvu6iJY"
   },
   "source": [
    "####More on data type conversions\n",
    "[link text](https://stackoverflow.com/questions/15891038/change-column-type-in-pandas)"
   ]
  },
  {
   "cell_type": "markdown",
   "metadata": {
    "id": "NFJqe1_hHiJ0"
   },
   "source": [
    "# Duplicates"
   ]
  },
  {
   "cell_type": "code",
   "execution_count": 21,
   "metadata": {
    "colab": {
     "base_uri": "https://localhost:8080/"
    },
    "executionInfo": {
     "elapsed": 375,
     "status": "ok",
     "timestamp": 1670305032605,
     "user": {
      "displayName": "ANANYA GHOSH",
      "userId": "07636421272032694955"
     },
     "user_tz": -330
    },
    "id": "zoCZF5vmG4nL",
    "outputId": "3d267520-8a76-4ae2-f1b5-3d551b889ea6"
   },
   "outputs": [
    {
     "data": {
      "text/plain": [
       "0     False\n",
       "1     False\n",
       "2     False\n",
       "3     False\n",
       "4     False\n",
       "5     False\n",
       "6     False\n",
       "7     False\n",
       "8     False\n",
       "9     False\n",
       "10    False\n",
       "11    False\n",
       "12    False\n",
       "13    False\n",
       "14    False\n",
       "15    False\n",
       "16    False\n",
       "17    False\n",
       "18    False\n",
       "19    False\n",
       "20    False\n",
       "21    False\n",
       "22    False\n",
       "23    False\n",
       "24    False\n",
       "25    False\n",
       "26    False\n",
       "27    False\n",
       "28    False\n",
       "29    False\n",
       "30    False\n",
       "31    False\n",
       "32    False\n",
       "33    False\n",
       "34    False\n",
       "35    False\n",
       "36    False\n",
       "37    False\n",
       "38    False\n",
       "39    False\n",
       "dtype: bool"
      ]
     },
     "execution_count": 21,
     "metadata": {},
     "output_type": "execute_result"
    }
   ],
   "source": [
    "data.duplicated().head(40)"
   ]
  },
  {
   "cell_type": "code",
   "execution_count": 22,
   "metadata": {
    "colab": {
     "base_uri": "https://localhost:8080/"
    },
    "executionInfo": {
     "elapsed": 552,
     "status": "ok",
     "timestamp": 1670305064052,
     "user": {
      "displayName": "ANANYA GHOSH",
      "userId": "07636421272032694955"
     },
     "user_tz": -330
    },
    "id": "_KpAyz_YHiJ1",
    "outputId": "17b1f6f6-08e2-42ef-8158-5536d436d437"
   },
   "outputs": [
    {
     "data": {
      "text/plain": [
       "(0, 10)"
      ]
     },
     "execution_count": 22,
     "metadata": {},
     "output_type": "execute_result"
    }
   ],
   "source": [
    "#Count of duplicated rows\n",
    "data[data.duplicated()].shape"
   ]
  },
  {
   "cell_type": "code",
   "execution_count": 23,
   "metadata": {
    "colab": {
     "base_uri": "https://localhost:8080/"
    },
    "executionInfo": {
     "elapsed": 47,
     "status": "ok",
     "timestamp": 1664519218861,
     "user": {
      "displayName": "Salem Sameer Shaikh",
      "userId": "05291575250389740253"
     },
     "user_tz": -330
    },
    "id": "aqANozf_HiJ1",
    "outputId": "5c613568-da3e-4b2d-cef4-08afb79d623e"
   },
   "outputs": [],
   "source": [
    "# this indicates , there are no duplicate records"
   ]
  },
  {
   "cell_type": "code",
   "execution_count": 24,
   "metadata": {
    "colab": {
     "base_uri": "https://localhost:8080/",
     "height": 49
    },
    "executionInfo": {
     "elapsed": 347,
     "status": "ok",
     "timestamp": 1670305105470,
     "user": {
      "displayName": "ANANYA GHOSH",
      "userId": "07636421272032694955"
     },
     "user_tz": -330
    },
    "id": "KFQoZYgWHiJ2",
    "outputId": "8c277388-af5a-4049-a279-b7b93c055452"
   },
   "outputs": [
    {
     "data": {
      "text/html": [
       "<div>\n",
       "<style scoped>\n",
       "    .dataframe tbody tr th:only-of-type {\n",
       "        vertical-align: middle;\n",
       "    }\n",
       "\n",
       "    .dataframe tbody tr th {\n",
       "        vertical-align: top;\n",
       "    }\n",
       "\n",
       "    .dataframe thead th {\n",
       "        text-align: right;\n",
       "    }\n",
       "</style>\n",
       "<table border=\"1\" class=\"dataframe\">\n",
       "  <thead>\n",
       "    <tr style=\"text-align: right;\">\n",
       "      <th></th>\n",
       "      <th>Unnamed: 0</th>\n",
       "      <th>Ozone</th>\n",
       "      <th>Solar.R</th>\n",
       "      <th>Wind</th>\n",
       "      <th>Temp C</th>\n",
       "      <th>Month</th>\n",
       "      <th>Day</th>\n",
       "      <th>Year</th>\n",
       "      <th>Temp</th>\n",
       "      <th>Weather</th>\n",
       "    </tr>\n",
       "  </thead>\n",
       "  <tbody>\n",
       "  </tbody>\n",
       "</table>\n",
       "</div>"
      ],
      "text/plain": [
       "Empty DataFrame\n",
       "Columns: [Unnamed: 0, Ozone, Solar.R, Wind, Temp C, Month, Day, Year, Temp, Weather]\n",
       "Index: []"
      ]
     },
     "execution_count": 24,
     "metadata": {},
     "output_type": "execute_result"
    }
   ],
   "source": [
    "#Print the duplicated rows\n",
    "data[data.duplicated()]"
   ]
  },
  {
   "cell_type": "code",
   "execution_count": null,
   "metadata": {},
   "outputs": [],
   "source": []
  },
  {
   "cell_type": "code",
   "execution_count": null,
   "metadata": {},
   "outputs": [],
   "source": []
  },
  {
   "cell_type": "code",
   "execution_count": 25,
   "metadata": {
    "id": "p3io6gqtHiJ2"
   },
   "outputs": [],
   "source": [
    "data_cleaned1=data.drop_duplicates() "
   ]
  },
  {
   "cell_type": "code",
   "execution_count": 26,
   "metadata": {
    "colab": {
     "base_uri": "https://localhost:8080/"
    },
    "executionInfo": {
     "elapsed": 1153,
     "status": "ok",
     "timestamp": 1670305151128,
     "user": {
      "displayName": "ANANYA GHOSH",
      "userId": "07636421272032694955"
     },
     "user_tz": -330
    },
    "id": "_lqUKsaaHiJ3",
    "outputId": "c43cbcab-e701-4f02-c069-907896cff412"
   },
   "outputs": [
    {
     "data": {
      "text/plain": [
       "(158, 10)"
      ]
     },
     "execution_count": 26,
     "metadata": {},
     "output_type": "execute_result"
    }
   ],
   "source": [
    "data_cleaned1.shape"
   ]
  },
  {
   "cell_type": "code",
   "execution_count": 27,
   "metadata": {},
   "outputs": [],
   "source": [
    "# after removing duplicates, as here no duplicates."
   ]
  },
  {
   "cell_type": "markdown",
   "metadata": {
    "id": "zWe46hEUHiJ3"
   },
   "source": [
    "# Drop columns"
   ]
  },
  {
   "cell_type": "code",
   "execution_count": 94,
   "metadata": {},
   "outputs": [],
   "source": [
    "# Droping 'Unnamed: 0 ' column as it is found unnecessary "
   ]
  },
  {
   "cell_type": "code",
   "execution_count": 95,
   "metadata": {},
   "outputs": [],
   "source": [
    "data_cleaned2=data_cleaned1.drop('Unnamed: 0',axis=1)"
   ]
  },
  {
   "cell_type": "code",
   "execution_count": 96,
   "metadata": {
    "colab": {
     "base_uri": "https://localhost:8080/"
    },
    "executionInfo": {
     "elapsed": 47,
     "status": "ok",
     "timestamp": 1664519218863,
     "user": {
      "displayName": "Salem Sameer Shaikh",
      "userId": "05291575250389740253"
     },
     "user_tz": -330
    },
    "id": "D9j9uNucJVnZ",
    "outputId": "7e14894f-e474-483c-d4dd-da9a16de005f"
   },
   "outputs": [],
   "source": [
    "# Droping 'Temp C' column as , Temp C and Temp having same data"
   ]
  },
  {
   "cell_type": "code",
   "execution_count": 97,
   "metadata": {
    "id": "P1Dgh5voHiJ7"
   },
   "outputs": [],
   "source": [
    "data_cleaned2=data_cleaned2.drop('Temp C',axis=1)"
   ]
  },
  {
   "cell_type": "code",
   "execution_count": 98,
   "metadata": {
    "colab": {
     "base_uri": "https://localhost:8080/",
     "height": 424
    },
    "executionInfo": {
     "elapsed": 12,
     "status": "ok",
     "timestamp": 1670305244731,
     "user": {
      "displayName": "ANANYA GHOSH",
      "userId": "07636421272032694955"
     },
     "user_tz": -330
    },
    "id": "zVOUDnxvHiJ_",
    "outputId": "5ea0d434-858b-4554-bfdf-fc1d33e81030",
    "scrolled": true
   },
   "outputs": [
    {
     "data": {
      "text/html": [
       "<div>\n",
       "<style scoped>\n",
       "    .dataframe tbody tr th:only-of-type {\n",
       "        vertical-align: middle;\n",
       "    }\n",
       "\n",
       "    .dataframe tbody tr th {\n",
       "        vertical-align: top;\n",
       "    }\n",
       "\n",
       "    .dataframe thead th {\n",
       "        text-align: right;\n",
       "    }\n",
       "</style>\n",
       "<table border=\"1\" class=\"dataframe\">\n",
       "  <thead>\n",
       "    <tr style=\"text-align: right;\">\n",
       "      <th></th>\n",
       "      <th>Ozone</th>\n",
       "      <th>Solar.R</th>\n",
       "      <th>Wind</th>\n",
       "      <th>Month</th>\n",
       "      <th>Day</th>\n",
       "      <th>Year</th>\n",
       "      <th>Temp</th>\n",
       "      <th>Weather</th>\n",
       "    </tr>\n",
       "  </thead>\n",
       "  <tbody>\n",
       "    <tr>\n",
       "      <th>0</th>\n",
       "      <td>41.0</td>\n",
       "      <td>190.0</td>\n",
       "      <td>7.4</td>\n",
       "      <td>5.0</td>\n",
       "      <td>1</td>\n",
       "      <td>2010</td>\n",
       "      <td>67</td>\n",
       "      <td>S</td>\n",
       "    </tr>\n",
       "    <tr>\n",
       "      <th>1</th>\n",
       "      <td>36.0</td>\n",
       "      <td>118.0</td>\n",
       "      <td>8.0</td>\n",
       "      <td>5.0</td>\n",
       "      <td>2</td>\n",
       "      <td>2010</td>\n",
       "      <td>72</td>\n",
       "      <td>C</td>\n",
       "    </tr>\n",
       "    <tr>\n",
       "      <th>2</th>\n",
       "      <td>12.0</td>\n",
       "      <td>149.0</td>\n",
       "      <td>12.6</td>\n",
       "      <td>5.0</td>\n",
       "      <td>3</td>\n",
       "      <td>2010</td>\n",
       "      <td>74</td>\n",
       "      <td>PS</td>\n",
       "    </tr>\n",
       "    <tr>\n",
       "      <th>3</th>\n",
       "      <td>18.0</td>\n",
       "      <td>313.0</td>\n",
       "      <td>11.5</td>\n",
       "      <td>5.0</td>\n",
       "      <td>4</td>\n",
       "      <td>2010</td>\n",
       "      <td>62</td>\n",
       "      <td>S</td>\n",
       "    </tr>\n",
       "    <tr>\n",
       "      <th>4</th>\n",
       "      <td>NaN</td>\n",
       "      <td>NaN</td>\n",
       "      <td>14.3</td>\n",
       "      <td>5.0</td>\n",
       "      <td>5</td>\n",
       "      <td>2010</td>\n",
       "      <td>56</td>\n",
       "      <td>S</td>\n",
       "    </tr>\n",
       "  </tbody>\n",
       "</table>\n",
       "</div>"
      ],
      "text/plain": [
       "   Ozone  Solar.R  Wind  Month  Day  Year  Temp Weather\n",
       "0   41.0    190.0   7.4    5.0    1  2010    67       S\n",
       "1   36.0    118.0   8.0    5.0    2  2010    72       C\n",
       "2   12.0    149.0  12.6    5.0    3  2010    74      PS\n",
       "3   18.0    313.0  11.5    5.0    4  2010    62       S\n",
       "4    NaN      NaN  14.3    5.0    5  2010    56       S"
      ]
     },
     "execution_count": 98,
     "metadata": {},
     "output_type": "execute_result"
    }
   ],
   "source": [
    "data_cleaned2.head()"
   ]
  },
  {
   "cell_type": "code",
   "execution_count": null,
   "metadata": {},
   "outputs": [],
   "source": []
  },
  {
   "cell_type": "markdown",
   "metadata": {
    "id": "mu6o68KgHiKA"
   },
   "source": [
    "# Rename the columns"
   ]
  },
  {
   "cell_type": "code",
   "execution_count": 99,
   "metadata": {
    "id": "Kbuo1bNJHiKC"
   },
   "outputs": [],
   "source": [
    "#rename the Solar column\n",
    "data_cleaned3 = data_cleaned2.rename({'Solar.R': 'Solar'}, axis=1)"
   ]
  },
  {
   "cell_type": "code",
   "execution_count": 100,
   "metadata": {
    "colab": {
     "base_uri": "https://localhost:8080/",
     "height": 424
    },
    "executionInfo": {
     "elapsed": 547,
     "status": "ok",
     "timestamp": 1670305310865,
     "user": {
      "displayName": "ANANYA GHOSH",
      "userId": "07636421272032694955"
     },
     "user_tz": -330
    },
    "id": "PtYfA49PHiKD",
    "outputId": "4d8e6072-5509-4bba-fa92-5bc7dd75240c"
   },
   "outputs": [
    {
     "data": {
      "text/html": [
       "<div>\n",
       "<style scoped>\n",
       "    .dataframe tbody tr th:only-of-type {\n",
       "        vertical-align: middle;\n",
       "    }\n",
       "\n",
       "    .dataframe tbody tr th {\n",
       "        vertical-align: top;\n",
       "    }\n",
       "\n",
       "    .dataframe thead th {\n",
       "        text-align: right;\n",
       "    }\n",
       "</style>\n",
       "<table border=\"1\" class=\"dataframe\">\n",
       "  <thead>\n",
       "    <tr style=\"text-align: right;\">\n",
       "      <th></th>\n",
       "      <th>Ozone</th>\n",
       "      <th>Solar</th>\n",
       "      <th>Wind</th>\n",
       "      <th>Month</th>\n",
       "      <th>Day</th>\n",
       "      <th>Year</th>\n",
       "      <th>Temp</th>\n",
       "      <th>Weather</th>\n",
       "    </tr>\n",
       "  </thead>\n",
       "  <tbody>\n",
       "    <tr>\n",
       "      <th>0</th>\n",
       "      <td>41.0</td>\n",
       "      <td>190.0</td>\n",
       "      <td>7.4</td>\n",
       "      <td>5.0</td>\n",
       "      <td>1</td>\n",
       "      <td>2010</td>\n",
       "      <td>67</td>\n",
       "      <td>S</td>\n",
       "    </tr>\n",
       "    <tr>\n",
       "      <th>1</th>\n",
       "      <td>36.0</td>\n",
       "      <td>118.0</td>\n",
       "      <td>8.0</td>\n",
       "      <td>5.0</td>\n",
       "      <td>2</td>\n",
       "      <td>2010</td>\n",
       "      <td>72</td>\n",
       "      <td>C</td>\n",
       "    </tr>\n",
       "    <tr>\n",
       "      <th>2</th>\n",
       "      <td>12.0</td>\n",
       "      <td>149.0</td>\n",
       "      <td>12.6</td>\n",
       "      <td>5.0</td>\n",
       "      <td>3</td>\n",
       "      <td>2010</td>\n",
       "      <td>74</td>\n",
       "      <td>PS</td>\n",
       "    </tr>\n",
       "    <tr>\n",
       "      <th>3</th>\n",
       "      <td>18.0</td>\n",
       "      <td>313.0</td>\n",
       "      <td>11.5</td>\n",
       "      <td>5.0</td>\n",
       "      <td>4</td>\n",
       "      <td>2010</td>\n",
       "      <td>62</td>\n",
       "      <td>S</td>\n",
       "    </tr>\n",
       "    <tr>\n",
       "      <th>4</th>\n",
       "      <td>NaN</td>\n",
       "      <td>NaN</td>\n",
       "      <td>14.3</td>\n",
       "      <td>5.0</td>\n",
       "      <td>5</td>\n",
       "      <td>2010</td>\n",
       "      <td>56</td>\n",
       "      <td>S</td>\n",
       "    </tr>\n",
       "  </tbody>\n",
       "</table>\n",
       "</div>"
      ],
      "text/plain": [
       "   Ozone  Solar  Wind  Month  Day  Year  Temp Weather\n",
       "0   41.0  190.0   7.4    5.0    1  2010    67       S\n",
       "1   36.0  118.0   8.0    5.0    2  2010    72       C\n",
       "2   12.0  149.0  12.6    5.0    3  2010    74      PS\n",
       "3   18.0  313.0  11.5    5.0    4  2010    62       S\n",
       "4    NaN    NaN  14.3    5.0    5  2010    56       S"
      ]
     },
     "execution_count": 100,
     "metadata": {},
     "output_type": "execute_result"
    }
   ],
   "source": [
    "data_cleaned3.head()"
   ]
  },
  {
   "cell_type": "code",
   "execution_count": null,
   "metadata": {},
   "outputs": [],
   "source": []
  },
  {
   "cell_type": "markdown",
   "metadata": {
    "id": "XPKlmxFQHiKF"
   },
   "source": [
    "# Missing Values and Imputation"
   ]
  },
  {
   "cell_type": "code",
   "execution_count": 101,
   "metadata": {},
   "outputs": [
    {
     "data": {
      "text/plain": [
       "Index(['Ozone', 'Solar', 'Wind', 'Month', 'Day', 'Year', 'Temp', 'Weather'], dtype='object')"
      ]
     },
     "execution_count": 101,
     "metadata": {},
     "output_type": "execute_result"
    }
   ],
   "source": [
    "cols = data_cleaned3.columns \n",
    "cols"
   ]
  },
  {
   "cell_type": "code",
   "execution_count": 102,
   "metadata": {
    "colab": {
     "base_uri": "https://localhost:8080/",
     "height": 319
    },
    "executionInfo": {
     "elapsed": 48,
     "status": "ok",
     "timestamp": 1664519218866,
     "user": {
      "displayName": "Salem Sameer Shaikh",
      "userId": "05291575250389740253"
     },
     "user_tz": -330
    },
    "id": "cEemcw5mHiKF",
    "outputId": "4abe5695-04e2-49c7-fe23-b407803944ec"
   },
   "outputs": [
    {
     "data": {
      "text/plain": [
       "<AxesSubplot:>"
      ]
     },
     "execution_count": 102,
     "metadata": {},
     "output_type": "execute_result"
    },
    {
     "data": {
      "image/png": "[encoded data removed]",
      "text/plain": [
       "<Figure size 640x480 with 2 Axes>"
      ]
     },
     "metadata": {},
     "output_type": "display_data"
    }
   ],
   "source": [
    "import seaborn as sns\n",
    "cols = data_cleaned3.columns \n",
    "colours = ['#000099', '#ffff00'] # specify the colours - yellow is missing. blue is not missing.\n",
    "sns.heatmap(data_cleaned3[cols].isnull(),\n",
    "            cmap=sns.color_palette(colours))"
   ]
  },
  {
   "cell_type": "code",
   "execution_count": 103,
   "metadata": {},
   "outputs": [],
   "source": [
    "# yellow color band shows missing values in each column like Ozone , Solar , Weather etc.\n",
    "# as it shows highest missing values are Ozone column."
   ]
  },
  {
   "cell_type": "code",
   "execution_count": 104,
   "metadata": {
    "colab": {
     "base_uri": "https://localhost:8080/",
     "height": 206
    },
    "executionInfo": {
     "elapsed": 350,
     "status": "ok",
     "timestamp": 1670391973845,
     "user": {
      "displayName": "ANANYA GHOSH",
      "userId": "07636421272032694955"
     },
     "user_tz": -330
    },
    "id": "bDn1O9PNHiKF",
    "outputId": "192bc4b3-7270-42b6-94e6-bd8bcb615f6c"
   },
   "outputs": [
    {
     "data": {
      "text/html": [
       "<div>\n",
       "<style scoped>\n",
       "    .dataframe tbody tr th:only-of-type {\n",
       "        vertical-align: middle;\n",
       "    }\n",
       "\n",
       "    .dataframe tbody tr th {\n",
       "        vertical-align: top;\n",
       "    }\n",
       "\n",
       "    .dataframe thead th {\n",
       "        text-align: right;\n",
       "    }\n",
       "</style>\n",
       "<table border=\"1\" class=\"dataframe\">\n",
       "  <thead>\n",
       "    <tr style=\"text-align: right;\">\n",
       "      <th></th>\n",
       "      <th>Ozone</th>\n",
       "      <th>Solar</th>\n",
       "      <th>Wind</th>\n",
       "      <th>Month</th>\n",
       "      <th>Day</th>\n",
       "      <th>Year</th>\n",
       "      <th>Temp</th>\n",
       "      <th>Weather</th>\n",
       "    </tr>\n",
       "  </thead>\n",
       "  <tbody>\n",
       "    <tr>\n",
       "      <th>4</th>\n",
       "      <td>NaN</td>\n",
       "      <td>NaN</td>\n",
       "      <td>14.3</td>\n",
       "      <td>5.0</td>\n",
       "      <td>5</td>\n",
       "      <td>2010</td>\n",
       "      <td>56</td>\n",
       "      <td>S</td>\n",
       "    </tr>\n",
       "    <tr>\n",
       "      <th>5</th>\n",
       "      <td>28.0</td>\n",
       "      <td>NaN</td>\n",
       "      <td>14.9</td>\n",
       "      <td>5.0</td>\n",
       "      <td>6</td>\n",
       "      <td>2010</td>\n",
       "      <td>66</td>\n",
       "      <td>C</td>\n",
       "    </tr>\n",
       "    <tr>\n",
       "      <th>9</th>\n",
       "      <td>NaN</td>\n",
       "      <td>194.0</td>\n",
       "      <td>8.6</td>\n",
       "      <td>5.0</td>\n",
       "      <td>10</td>\n",
       "      <td>2010</td>\n",
       "      <td>69</td>\n",
       "      <td>S</td>\n",
       "    </tr>\n",
       "    <tr>\n",
       "      <th>10</th>\n",
       "      <td>7.0</td>\n",
       "      <td>NaN</td>\n",
       "      <td>6.9</td>\n",
       "      <td>5.0</td>\n",
       "      <td>11</td>\n",
       "      <td>2010</td>\n",
       "      <td>74</td>\n",
       "      <td>C</td>\n",
       "    </tr>\n",
       "    <tr>\n",
       "      <th>23</th>\n",
       "      <td>32.0</td>\n",
       "      <td>92.0</td>\n",
       "      <td>12.0</td>\n",
       "      <td>NaN</td>\n",
       "      <td>24</td>\n",
       "      <td>2010</td>\n",
       "      <td>61</td>\n",
       "      <td>C</td>\n",
       "    </tr>\n",
       "  </tbody>\n",
       "</table>\n",
       "</div>"
      ],
      "text/plain": [
       "    Ozone  Solar  Wind  Month  Day  Year  Temp Weather\n",
       "4     NaN    NaN  14.3    5.0    5  2010    56       S\n",
       "5    28.0    NaN  14.9    5.0    6  2010    66       C\n",
       "9     NaN  194.0   8.6    5.0   10  2010    69       S\n",
       "10    7.0    NaN   6.9    5.0   11  2010    74       C\n",
       "23   32.0   92.0  12.0    NaN   24  2010    61       C"
      ]
     },
     "execution_count": 104,
     "metadata": {},
     "output_type": "execute_result"
    }
   ],
   "source": [
    "data_cleaned3[data_cleaned3.isnull().any(axis=1)].head()"
   ]
  },
  {
   "cell_type": "code",
   "execution_count": 105,
   "metadata": {
    "colab": {
     "base_uri": "https://localhost:8080/"
    },
    "executionInfo": {
     "elapsed": 361,
     "status": "ok",
     "timestamp": 1670305506840,
     "user": {
      "displayName": "ANANYA GHOSH",
      "userId": "07636421272032694955"
     },
     "user_tz": -330
    },
    "id": "S61OAKyQHiKF",
    "outputId": "b3ff04e8-fd1c-4bc9-e5a0-de4596a62061"
   },
   "outputs": [
    {
     "data": {
      "text/plain": [
       "Ozone      38\n",
       "Solar       7\n",
       "Wind        0\n",
       "Month       1\n",
       "Day         0\n",
       "Year        0\n",
       "Temp        0\n",
       "Weather     3\n",
       "dtype: int64"
      ]
     },
     "execution_count": 105,
     "metadata": {},
     "output_type": "execute_result"
    }
   ],
   "source": [
    "data_cleaned3.isnull().sum()"
   ]
  },
  {
   "cell_type": "code",
   "execution_count": 106,
   "metadata": {
    "colab": {
     "base_uri": "https://localhost:8080/"
    },
    "executionInfo": {
     "elapsed": 42,
     "status": "ok",
     "timestamp": 1664519218867,
     "user": {
      "displayName": "Salem Sameer Shaikh",
      "userId": "05291575250389740253"
     },
     "user_tz": -330
    },
    "id": "gECZq_Y02Jgw",
    "outputId": "dae6b734-7aa8-45e0-9e47-64dae2ccddd8"
   },
   "outputs": [
    {
     "name": "stdout",
     "output_type": "stream",
     "text": [
      "<class 'pandas.core.frame.DataFrame'>\n",
      "Int64Index: 158 entries, 0 to 157\n",
      "Data columns (total 8 columns):\n",
      " #   Column   Non-Null Count  Dtype   \n",
      "---  ------   --------------  -----   \n",
      " 0   Ozone    120 non-null    float64 \n",
      " 1   Solar    151 non-null    float64 \n",
      " 2   Wind     158 non-null    float64 \n",
      " 3   Month    157 non-null    float64 \n",
      " 4   Day      158 non-null    int64   \n",
      " 5   Year     158 non-null    int64   \n",
      " 6   Temp     158 non-null    int64   \n",
      " 7   Weather  155 non-null    category\n",
      "dtypes: category(1), float64(4), int64(3)\n",
      "memory usage: 10.2 KB\n"
     ]
    }
   ],
   "source": [
    "data_cleaned3.info()"
   ]
  },
  {
   "cell_type": "markdown",
   "metadata": {},
   "source": [
    "## How to handle , missing (nan) values "
   ]
  },
  {
   "cell_type": "code",
   "execution_count": null,
   "metadata": {},
   "outputs": [],
   "source": []
  },
  {
   "cell_type": "code",
   "execution_count": 110,
   "metadata": {},
   "outputs": [
    {
     "data": {
      "text/plain": [
       "41.583333333333336"
      ]
     },
     "execution_count": 110,
     "metadata": {},
     "output_type": "execute_result"
    }
   ],
   "source": [
    "data_cleaned3['Ozone'].mean()"
   ]
  },
  {
   "cell_type": "code",
   "execution_count": 111,
   "metadata": {
    "colab": {
     "base_uri": "https://localhost:8080/"
    },
    "executionInfo": {
     "elapsed": 354,
     "status": "ok",
     "timestamp": 1670391981309,
     "user": {
      "displayName": "ANANYA GHOSH",
      "userId": "07636421272032694955"
     },
     "user_tz": -330
    },
    "id": "Q3Nh751PHiKG",
    "outputId": "61953479-0b8e-4800-9da3-e6947adc50f1"
   },
   "outputs": [
    {
     "name": "stdout",
     "output_type": "stream",
     "text": [
      "41.583333333333336\n"
     ]
    }
   ],
   "source": [
    "#Mean Imputation\n",
    "m = data_cleaned3['Ozone'].mean()\n",
    "print(m)"
   ]
  },
  {
   "cell_type": "code",
   "execution_count": 40,
   "metadata": {
    "id": "A6bDzB6jHiKG"
   },
   "outputs": [],
   "source": [
    "data_cleaned3['Ozone'] = data_cleaned3['Ozone'].fillna(m)"
   ]
  },
  {
   "cell_type": "code",
   "execution_count": 41,
   "metadata": {
    "colab": {
     "base_uri": "https://localhost:8080/",
     "height": 424
    },
    "executionInfo": {
     "elapsed": 75,
     "status": "ok",
     "timestamp": 1664519220984,
     "user": {
      "displayName": "Salem Sameer Shaikh",
      "userId": "05291575250389740253"
     },
     "user_tz": -330
    },
    "id": "jRH2M0_lHiKG",
    "outputId": "84f1043d-65bf-434b-c143-1b151867bd38"
   },
   "outputs": [
    {
     "data": {
      "text/plain": [
       "0"
      ]
     },
     "execution_count": 41,
     "metadata": {},
     "output_type": "execute_result"
    }
   ],
   "source": [
    "data_cleaned3['Ozone'].isnull().sum()\n",
    "# Plot boxplot"
   ]
  },
  {
   "cell_type": "code",
   "execution_count": 42,
   "metadata": {
    "id": "vYD4bO-BHiKG"
   },
   "outputs": [],
   "source": [
    "#Missing value imputation for categorical vlaue\n",
    "#Get the object columns\n",
    "obj_columns=data_cleaned3[['Weather']]"
   ]
  },
  {
   "cell_type": "code",
   "execution_count": 43,
   "metadata": {
    "colab": {
     "base_uri": "https://localhost:8080/"
    },
    "executionInfo": {
     "elapsed": 948,
     "status": "ok",
     "timestamp": 1670305644110,
     "user": {
      "displayName": "ANANYA GHOSH",
      "userId": "07636421272032694955"
     },
     "user_tz": -330
    },
    "id": "dAL2C9qpHiKH",
    "outputId": "63aaaa7e-747a-49a4-db77-c470f7c121fc"
   },
   "outputs": [
    {
     "data": {
      "text/plain": [
       "Weather    3\n",
       "dtype: int64"
      ]
     },
     "execution_count": 43,
     "metadata": {},
     "output_type": "execute_result"
    }
   ],
   "source": [
    "obj_columns.isnull().sum()"
   ]
  },
  {
   "cell_type": "code",
   "execution_count": 112,
   "metadata": {
    "collapsed": true
   },
   "outputs": [
    {
     "data": {
      "text/html": [
       "<div>\n",
       "<style scoped>\n",
       "    .dataframe tbody tr th:only-of-type {\n",
       "        vertical-align: middle;\n",
       "    }\n",
       "\n",
       "    .dataframe tbody tr th {\n",
       "        vertical-align: top;\n",
       "    }\n",
       "\n",
       "    .dataframe thead th {\n",
       "        text-align: right;\n",
       "    }\n",
       "</style>\n",
       "<table border=\"1\" class=\"dataframe\">\n",
       "  <thead>\n",
       "    <tr style=\"text-align: right;\">\n",
       "      <th></th>\n",
       "      <th>Weather</th>\n",
       "    </tr>\n",
       "  </thead>\n",
       "  <tbody>\n",
       "    <tr>\n",
       "      <th>0</th>\n",
       "      <td>S</td>\n",
       "    </tr>\n",
       "    <tr>\n",
       "      <th>1</th>\n",
       "      <td>C</td>\n",
       "    </tr>\n",
       "    <tr>\n",
       "      <th>2</th>\n",
       "      <td>PS</td>\n",
       "    </tr>\n",
       "    <tr>\n",
       "      <th>3</th>\n",
       "      <td>S</td>\n",
       "    </tr>\n",
       "    <tr>\n",
       "      <th>4</th>\n",
       "      <td>S</td>\n",
       "    </tr>\n",
       "    <tr>\n",
       "      <th>...</th>\n",
       "      <td>...</td>\n",
       "    </tr>\n",
       "    <tr>\n",
       "      <th>153</th>\n",
       "      <td>C</td>\n",
       "    </tr>\n",
       "    <tr>\n",
       "      <th>154</th>\n",
       "      <td>PS</td>\n",
       "    </tr>\n",
       "    <tr>\n",
       "      <th>155</th>\n",
       "      <td>S</td>\n",
       "    </tr>\n",
       "    <tr>\n",
       "      <th>156</th>\n",
       "      <td>S</td>\n",
       "    </tr>\n",
       "    <tr>\n",
       "      <th>157</th>\n",
       "      <td>C</td>\n",
       "    </tr>\n",
       "  </tbody>\n",
       "</table>\n",
       "<p>158 rows × 1 columns</p>\n",
       "</div>"
      ],
      "text/plain": [
       "    Weather\n",
       "0         S\n",
       "1         C\n",
       "2        PS\n",
       "3         S\n",
       "4         S\n",
       "..      ...\n",
       "153       C\n",
       "154      PS\n",
       "155       S\n",
       "156       S\n",
       "157       C\n",
       "\n",
       "[158 rows x 1 columns]"
      ]
     },
     "execution_count": 112,
     "metadata": {},
     "output_type": "execute_result"
    }
   ],
   "source": [
    "obj_columns"
   ]
  },
  {
   "cell_type": "code",
   "execution_count": 45,
   "metadata": {},
   "outputs": [],
   "source": [
    "z=obj_columns.mode().iloc[0]"
   ]
  },
  {
   "cell_type": "code",
   "execution_count": 46,
   "metadata": {},
   "outputs": [
    {
     "data": {
      "text/plain": [
       "Weather    S\n",
       "Name: 0, dtype: category\n",
       "Categories (3, object): ['C', 'PS', 'S']"
      ]
     },
     "execution_count": 46,
     "metadata": {},
     "output_type": "execute_result"
    }
   ],
   "source": [
    "z"
   ]
  },
  {
   "cell_type": "code",
   "execution_count": null,
   "metadata": {
    "colab": {
     "base_uri": "https://localhost:8080/",
     "height": 424
    },
    "executionInfo": {
     "elapsed": 604,
     "status": "ok",
     "timestamp": 1670394447376,
     "user": {
      "displayName": "ANANYA GHOSH",
      "userId": "07636421272032694955"
     },
     "user_tz": -330
    },
    "id": "BEZqbzZ6HiKH",
    "outputId": "0e4f8513-7f37-416f-a68f-8c446fbd3377"
   },
   "outputs": [],
   "source": []
  },
  {
   "cell_type": "code",
   "execution_count": 113,
   "metadata": {
    "colab": {
     "base_uri": "https://localhost:8080/",
     "height": 339
    },
    "executionInfo": {
     "elapsed": 1023,
     "status": "ok",
     "timestamp": 1670305696824,
     "user": {
      "displayName": "ANANYA GHOSH",
      "userId": "07636421272032694955"
     },
     "user_tz": -330
    },
    "id": "sC-0TCqsHiKH",
    "outputId": "4e9a2669-3346-48f7-e0ce-49391bd62846",
    "scrolled": true
   },
   "outputs": [
    {
     "data": {
      "text/plain": [
       "Weather    0\n",
       "dtype: int64"
      ]
     },
     "execution_count": 113,
     "metadata": {},
     "output_type": "execute_result"
    }
   ],
   "source": [
    "obj_columns.isnull().sum()"
   ]
  },
  {
   "cell_type": "code",
   "execution_count": 115,
   "metadata": {},
   "outputs": [
    {
     "data": {
      "text/html": [
       "<div>\n",
       "<style scoped>\n",
       "    .dataframe tbody tr th:only-of-type {\n",
       "        vertical-align: middle;\n",
       "    }\n",
       "\n",
       "    .dataframe tbody tr th {\n",
       "        vertical-align: top;\n",
       "    }\n",
       "\n",
       "    .dataframe thead th {\n",
       "        text-align: right;\n",
       "    }\n",
       "</style>\n",
       "<table border=\"1\" class=\"dataframe\">\n",
       "  <thead>\n",
       "    <tr style=\"text-align: right;\">\n",
       "      <th></th>\n",
       "      <th>Ozone</th>\n",
       "      <th>Solar</th>\n",
       "      <th>Wind</th>\n",
       "      <th>Month</th>\n",
       "      <th>Day</th>\n",
       "      <th>Year</th>\n",
       "      <th>Temp</th>\n",
       "      <th>Weather</th>\n",
       "    </tr>\n",
       "  </thead>\n",
       "  <tbody>\n",
       "    <tr>\n",
       "      <th>0</th>\n",
       "      <td>41.0</td>\n",
       "      <td>190.0</td>\n",
       "      <td>7.4</td>\n",
       "      <td>5.0</td>\n",
       "      <td>1</td>\n",
       "      <td>2010</td>\n",
       "      <td>67</td>\n",
       "      <td>S</td>\n",
       "    </tr>\n",
       "    <tr>\n",
       "      <th>1</th>\n",
       "      <td>36.0</td>\n",
       "      <td>118.0</td>\n",
       "      <td>8.0</td>\n",
       "      <td>5.0</td>\n",
       "      <td>2</td>\n",
       "      <td>2010</td>\n",
       "      <td>72</td>\n",
       "      <td>C</td>\n",
       "    </tr>\n",
       "    <tr>\n",
       "      <th>2</th>\n",
       "      <td>12.0</td>\n",
       "      <td>149.0</td>\n",
       "      <td>12.6</td>\n",
       "      <td>5.0</td>\n",
       "      <td>3</td>\n",
       "      <td>2010</td>\n",
       "      <td>74</td>\n",
       "      <td>PS</td>\n",
       "    </tr>\n",
       "    <tr>\n",
       "      <th>3</th>\n",
       "      <td>18.0</td>\n",
       "      <td>313.0</td>\n",
       "      <td>11.5</td>\n",
       "      <td>5.0</td>\n",
       "      <td>4</td>\n",
       "      <td>2010</td>\n",
       "      <td>62</td>\n",
       "      <td>S</td>\n",
       "    </tr>\n",
       "    <tr>\n",
       "      <th>4</th>\n",
       "      <td>NaN</td>\n",
       "      <td>NaN</td>\n",
       "      <td>14.3</td>\n",
       "      <td>5.0</td>\n",
       "      <td>5</td>\n",
       "      <td>2010</td>\n",
       "      <td>56</td>\n",
       "      <td>S</td>\n",
       "    </tr>\n",
       "  </tbody>\n",
       "</table>\n",
       "</div>"
      ],
      "text/plain": [
       "   Ozone  Solar  Wind  Month  Day  Year  Temp Weather\n",
       "0   41.0  190.0   7.4    5.0    1  2010    67       S\n",
       "1   36.0  118.0   8.0    5.0    2  2010    72       C\n",
       "2   12.0  149.0  12.6    5.0    3  2010    74      PS\n",
       "3   18.0  313.0  11.5    5.0    4  2010    62       S\n",
       "4    NaN    NaN  14.3    5.0    5  2010    56       S"
      ]
     },
     "execution_count": 115,
     "metadata": {},
     "output_type": "execute_result"
    }
   ],
   "source": [
    "data_cleaned3.head()"
   ]
  },
  {
   "cell_type": "code",
   "execution_count": 116,
   "metadata": {},
   "outputs": [
    {
     "data": {
      "text/plain": [
       "<AxesSubplot:>"
      ]
     },
     "execution_count": 116,
     "metadata": {},
     "output_type": "execute_result"
    },
    {
     "data": {
      "image/png": "[encoded data removed]",
      "text/plain": [
       "<Figure size 640x480 with 1 Axes>"
      ]
     },
     "metadata": {},
     "output_type": "display_data"
    }
   ],
   "source": [
    "data_cleaned3.boxplot()"
   ]
  },
  {
   "cell_type": "code",
   "execution_count": null,
   "metadata": {
    "colab": {
     "base_uri": "https://localhost:8080/",
     "height": 424
    },
    "executionInfo": {
     "elapsed": 66,
     "status": "ok",
     "timestamp": 1664519220986,
     "user": {
      "displayName": "Salem Sameer Shaikh",
      "userId": "05291575250389740253"
     },
     "user_tz": -330
    },
    "id": "lx-6VberHiKI",
    "outputId": "d8b470e4-bc70-4f1b-bead-f10e2913e48a"
   },
   "outputs": [],
   "source": []
  },
  {
   "cell_type": "code",
   "execution_count": 51,
   "metadata": {
    "colab": {
     "base_uri": "https://localhost:8080/"
    },
    "executionInfo": {
     "elapsed": 65,
     "status": "ok",
     "timestamp": 1664519220986,
     "user": {
      "displayName": "Salem Sameer Shaikh",
      "userId": "05291575250389740253"
     },
     "user_tz": -330
    },
    "id": "cnR0aM0VHiKI",
    "outputId": "3021142f-4300-4609-a6e3-c90521fe15ca"
   },
   "outputs": [
    {
     "data": {
      "text/plain": [
       "(158, 1)"
      ]
     },
     "execution_count": 51,
     "metadata": {},
     "output_type": "execute_result"
    }
   ],
   "source": [
    "obj_columns.shape"
   ]
  },
  {
   "cell_type": "code",
   "execution_count": 117,
   "metadata": {
    "id": "f00Qe39PBdpw"
   },
   "outputs": [],
   "source": [
    "#data_cleaned4=data_cleaned3.drop(['Weather'],axis=1,inplace=True)"
   ]
  },
  {
   "cell_type": "code",
   "execution_count": 118,
   "metadata": {
    "id": "nEsfFYzdHiKI"
   },
   "outputs": [],
   "source": [
    "#Join the data set with imputed object dataset\n",
    "data_cleaned4=pd.concat([data_cleaned3,obj_columns],axis=1)"
   ]
  },
  {
   "cell_type": "code",
   "execution_count": 119,
   "metadata": {
    "colab": {
     "base_uri": "https://localhost:8080/"
    },
    "executionInfo": {
     "elapsed": 336,
     "status": "ok",
     "timestamp": 1670305805214,
     "user": {
      "displayName": "ANANYA GHOSH",
      "userId": "07636421272032694955"
     },
     "user_tz": -330
    },
    "id": "4dU5FvS7HiKI",
    "outputId": "c64228da-3189-4307-f02d-60fae114e286"
   },
   "outputs": [
    {
     "data": {
      "text/plain": [
       "Ozone      38\n",
       "Solar       7\n",
       "Wind        0\n",
       "Month       1\n",
       "Day         0\n",
       "Year        0\n",
       "Temp        0\n",
       "Weather     3\n",
       "Weather     0\n",
       "dtype: int64"
      ]
     },
     "execution_count": 119,
     "metadata": {},
     "output_type": "execute_result"
    }
   ],
   "source": [
    "data_cleaned4.isnull().sum()"
   ]
  },
  {
   "cell_type": "code",
   "execution_count": 120,
   "metadata": {
    "colab": {
     "base_uri": "https://localhost:8080/",
     "height": 424
    },
    "executionInfo": {
     "elapsed": 60,
     "status": "ok",
     "timestamp": 1664519220988,
     "user": {
      "displayName": "Salem Sameer Shaikh",
      "userId": "05291575250389740253"
     },
     "user_tz": -330
    },
    "id": "TiyOBI63BbJ3",
    "outputId": "e5de6790-e32d-49fc-dab1-1647ddb00ba0"
   },
   "outputs": [
    {
     "data": {
      "text/html": [
       "<div>\n",
       "<style scoped>\n",
       "    .dataframe tbody tr th:only-of-type {\n",
       "        vertical-align: middle;\n",
       "    }\n",
       "\n",
       "    .dataframe tbody tr th {\n",
       "        vertical-align: top;\n",
       "    }\n",
       "\n",
       "    .dataframe thead th {\n",
       "        text-align: right;\n",
       "    }\n",
       "</style>\n",
       "<table border=\"1\" class=\"dataframe\">\n",
       "  <thead>\n",
       "    <tr style=\"text-align: right;\">\n",
       "      <th></th>\n",
       "      <th>Ozone</th>\n",
       "      <th>Solar</th>\n",
       "      <th>Wind</th>\n",
       "      <th>Month</th>\n",
       "      <th>Day</th>\n",
       "      <th>Year</th>\n",
       "      <th>Temp</th>\n",
       "      <th>Weather</th>\n",
       "      <th>Weather</th>\n",
       "    </tr>\n",
       "  </thead>\n",
       "  <tbody>\n",
       "    <tr>\n",
       "      <th>0</th>\n",
       "      <td>41.0</td>\n",
       "      <td>190.0</td>\n",
       "      <td>7.4</td>\n",
       "      <td>5.0</td>\n",
       "      <td>1</td>\n",
       "      <td>2010</td>\n",
       "      <td>67</td>\n",
       "      <td>S</td>\n",
       "      <td>S</td>\n",
       "    </tr>\n",
       "    <tr>\n",
       "      <th>1</th>\n",
       "      <td>36.0</td>\n",
       "      <td>118.0</td>\n",
       "      <td>8.0</td>\n",
       "      <td>5.0</td>\n",
       "      <td>2</td>\n",
       "      <td>2010</td>\n",
       "      <td>72</td>\n",
       "      <td>C</td>\n",
       "      <td>C</td>\n",
       "    </tr>\n",
       "    <tr>\n",
       "      <th>2</th>\n",
       "      <td>12.0</td>\n",
       "      <td>149.0</td>\n",
       "      <td>12.6</td>\n",
       "      <td>5.0</td>\n",
       "      <td>3</td>\n",
       "      <td>2010</td>\n",
       "      <td>74</td>\n",
       "      <td>PS</td>\n",
       "      <td>PS</td>\n",
       "    </tr>\n",
       "    <tr>\n",
       "      <th>3</th>\n",
       "      <td>18.0</td>\n",
       "      <td>313.0</td>\n",
       "      <td>11.5</td>\n",
       "      <td>5.0</td>\n",
       "      <td>4</td>\n",
       "      <td>2010</td>\n",
       "      <td>62</td>\n",
       "      <td>S</td>\n",
       "      <td>S</td>\n",
       "    </tr>\n",
       "    <tr>\n",
       "      <th>4</th>\n",
       "      <td>NaN</td>\n",
       "      <td>NaN</td>\n",
       "      <td>14.3</td>\n",
       "      <td>5.0</td>\n",
       "      <td>5</td>\n",
       "      <td>2010</td>\n",
       "      <td>56</td>\n",
       "      <td>S</td>\n",
       "      <td>S</td>\n",
       "    </tr>\n",
       "    <tr>\n",
       "      <th>...</th>\n",
       "      <td>...</td>\n",
       "      <td>...</td>\n",
       "      <td>...</td>\n",
       "      <td>...</td>\n",
       "      <td>...</td>\n",
       "      <td>...</td>\n",
       "      <td>...</td>\n",
       "      <td>...</td>\n",
       "      <td>...</td>\n",
       "    </tr>\n",
       "    <tr>\n",
       "      <th>153</th>\n",
       "      <td>41.0</td>\n",
       "      <td>190.0</td>\n",
       "      <td>7.4</td>\n",
       "      <td>5.0</td>\n",
       "      <td>1</td>\n",
       "      <td>2010</td>\n",
       "      <td>67</td>\n",
       "      <td>C</td>\n",
       "      <td>C</td>\n",
       "    </tr>\n",
       "    <tr>\n",
       "      <th>154</th>\n",
       "      <td>30.0</td>\n",
       "      <td>193.0</td>\n",
       "      <td>6.9</td>\n",
       "      <td>9.0</td>\n",
       "      <td>26</td>\n",
       "      <td>2010</td>\n",
       "      <td>70</td>\n",
       "      <td>PS</td>\n",
       "      <td>PS</td>\n",
       "    </tr>\n",
       "    <tr>\n",
       "      <th>155</th>\n",
       "      <td>NaN</td>\n",
       "      <td>145.0</td>\n",
       "      <td>13.2</td>\n",
       "      <td>9.0</td>\n",
       "      <td>27</td>\n",
       "      <td>2010</td>\n",
       "      <td>77</td>\n",
       "      <td>S</td>\n",
       "      <td>S</td>\n",
       "    </tr>\n",
       "    <tr>\n",
       "      <th>156</th>\n",
       "      <td>14.0</td>\n",
       "      <td>191.0</td>\n",
       "      <td>14.3</td>\n",
       "      <td>9.0</td>\n",
       "      <td>28</td>\n",
       "      <td>2010</td>\n",
       "      <td>75</td>\n",
       "      <td>S</td>\n",
       "      <td>S</td>\n",
       "    </tr>\n",
       "    <tr>\n",
       "      <th>157</th>\n",
       "      <td>18.0</td>\n",
       "      <td>131.0</td>\n",
       "      <td>8.0</td>\n",
       "      <td>9.0</td>\n",
       "      <td>29</td>\n",
       "      <td>2010</td>\n",
       "      <td>76</td>\n",
       "      <td>C</td>\n",
       "      <td>C</td>\n",
       "    </tr>\n",
       "  </tbody>\n",
       "</table>\n",
       "<p>158 rows × 9 columns</p>\n",
       "</div>"
      ],
      "text/plain": [
       "     Ozone  Solar  Wind  Month  Day  Year  Temp Weather Weather\n",
       "0     41.0  190.0   7.4    5.0    1  2010    67       S       S\n",
       "1     36.0  118.0   8.0    5.0    2  2010    72       C       C\n",
       "2     12.0  149.0  12.6    5.0    3  2010    74      PS      PS\n",
       "3     18.0  313.0  11.5    5.0    4  2010    62       S       S\n",
       "4      NaN    NaN  14.3    5.0    5  2010    56       S       S\n",
       "..     ...    ...   ...    ...  ...   ...   ...     ...     ...\n",
       "153   41.0  190.0   7.4    5.0    1  2010    67       C       C\n",
       "154   30.0  193.0   6.9    9.0   26  2010    70      PS      PS\n",
       "155    NaN  145.0  13.2    9.0   27  2010    77       S       S\n",
       "156   14.0  191.0  14.3    9.0   28  2010    75       S       S\n",
       "157   18.0  131.0   8.0    9.0   29  2010    76       C       C\n",
       "\n",
       "[158 rows x 9 columns]"
      ]
     },
     "execution_count": 120,
     "metadata": {},
     "output_type": "execute_result"
    }
   ],
   "source": [
    "data_cleaned4"
   ]
  },
  {
   "cell_type": "code",
   "execution_count": 121,
   "metadata": {
    "colab": {
     "base_uri": "https://localhost:8080/",
     "height": 286
    },
    "executionInfo": {
     "elapsed": 405,
     "status": "ok",
     "timestamp": 1670305881911,
     "user": {
      "displayName": "ANANYA GHOSH",
      "userId": "07636421272032694955"
     },
     "user_tz": -330
    },
    "id": "gmLCMlSSHiKE",
    "outputId": "f795a899-e381-4b8f-9233-93127c437b6a"
   },
   "outputs": [
    {
     "data": {
      "text/plain": [
       "<AxesSubplot:>"
      ]
     },
     "execution_count": 121,
     "metadata": {},
     "output_type": "execute_result"
    },
    {
     "data": {
      "image/png": "[encoded data removed]",
      "text/plain": [
       "<Figure size 640x480 with 1 Axes>"
      ]
     },
     "metadata": {},
     "output_type": "display_data"
    }
   ],
   "source": [
    "#Bar plot\n",
    "data['Weather'].value_counts().plot.bar()\n",
    "# s sunny\n",
    "# c clound\n",
    "# p partly sunny"
   ]
  },
  {
   "cell_type": "code",
   "execution_count": null,
   "metadata": {},
   "outputs": [],
   "source": []
  },
  {
   "cell_type": "code",
   "execution_count": null,
   "metadata": {},
   "outputs": [],
   "source": [
    "# here , S is category which has highest occurance about 60 , which is 20 % higher than PS category.\n",
    "# PS is lowest around 50 ."
   ]
  },
  {
   "cell_type": "markdown",
   "metadata": {
    "id": "wSdskG8jHiKD"
   },
   "source": [
    "# Outlier Detection"
   ]
  },
  {
   "cell_type": "code",
   "execution_count": 57,
   "metadata": {
    "colab": {
     "base_uri": "https://localhost:8080/",
     "height": 283
    },
    "executionInfo": {
     "elapsed": 399,
     "status": "ok",
     "timestamp": 1670305951327,
     "user": {
      "displayName": "ANANYA GHOSH",
      "userId": "07636421272032694955"
     },
     "user_tz": -330
    },
    "id": "H-zZbK1rHiKD",
    "outputId": "6f51ddec-4b39-4260-9567-7d6ef1d96b38"
   },
   "outputs": [
    {
     "data": {
      "text/plain": [
       "<AxesSubplot:>"
      ]
     },
     "execution_count": 57,
     "metadata": {},
     "output_type": "execute_result"
    },
    {
     "data": {
      "image/png": "[encoded data removed]",
      "text/plain": [
       "<Figure size 640x480 with 1 Axes>"
      ]
     },
     "metadata": {},
     "output_type": "display_data"
    }
   ],
   "source": [
    "# histogram of Ozone\n",
    "data_cleaned3['Ozone'].hist()"
   ]
  },
  {
   "cell_type": "code",
   "execution_count": null,
   "metadata": {},
   "outputs": [],
   "source": []
  },
  {
   "cell_type": "code",
   "execution_count": 59,
   "metadata": {
    "colab": {
     "base_uri": "https://localhost:8080/",
     "height": 268
    },
    "executionInfo": {
     "elapsed": 507,
     "status": "ok",
     "timestamp": 1670306149863,
     "user": {
      "displayName": "ANANYA GHOSH",
      "userId": "07636421272032694955"
     },
     "user_tz": -330
    },
    "id": "RIEFldCRtc2q",
    "outputId": "9a5abf7d-51e9-4f7a-f8e7-437ec93b9e5d"
   },
   "outputs": [
    {
     "data": {
      "image/png": "[encoded data removed]",
      "text/plain": [
       "<Figure size 640x480 with 1 Axes>"
      ]
     },
     "metadata": {},
     "output_type": "display_data"
    }
   ],
   "source": [
    "#Extracting outliers\n",
    "box=plt.boxplot(data['Ozone'].dropna())"
   ]
  },
  {
   "cell_type": "code",
   "execution_count": 126,
   "metadata": {
    "colab": {
     "base_uri": "https://localhost:8080/"
    },
    "executionInfo": {
     "elapsed": 344,
     "status": "ok",
     "timestamp": 1670306226121,
     "user": {
      "displayName": "ANANYA GHOSH",
      "userId": "07636421272032694955"
     },
     "user_tz": -330
    },
    "id": "hBVEfhhC-aFP",
    "outputId": "5158bf7d-f3e7-4ae5-aca2-e60a4c2354b3"
   },
   "outputs": [],
   "source": [
    "# inference\n",
    "# There are outlier present on upper side, around 130 and 160"
   ]
  },
  {
   "cell_type": "code",
   "execution_count": 61,
   "metadata": {
    "colab": {
     "base_uri": "https://localhost:8080/"
    },
    "executionInfo": {
     "elapsed": 391,
     "status": "ok",
     "timestamp": 1670306294190,
     "user": {
      "displayName": "ANANYA GHOSH",
      "userId": "07636421272032694955"
     },
     "user_tz": -330
    },
    "id": "5E3NZ5k8tjQb",
    "outputId": "2a213969-be3c-4abb-b1f6-723d6f2e9640"
   },
   "outputs": [],
   "source": []
  },
  {
   "cell_type": "code",
   "execution_count": null,
   "metadata": {
    "colab": {
     "base_uri": "https://localhost:8080/"
    },
    "executionInfo": {
     "elapsed": 364,
     "status": "ok",
     "timestamp": 1670306314949,
     "user": {
      "displayName": "ANANYA GHOSH",
      "userId": "07636421272032694955"
     },
     "user_tz": -330
    },
    "id": "1_VL9vhawGwI",
    "outputId": "f1c1450f-3e05-4a3a-a4c5-c02c5134fcb1"
   },
   "outputs": [],
   "source": []
  },
  {
   "cell_type": "code",
   "execution_count": 125,
   "metadata": {
    "colab": {
     "base_uri": "https://localhost:8080/"
    },
    "collapsed": true,
    "executionInfo": {
     "elapsed": 31,
     "status": "ok",
     "timestamp": 1664519220992,
     "user": {
      "displayName": "Salem Sameer Shaikh",
      "userId": "05291575250389740253"
     },
     "user_tz": -330
    },
    "id": "X2BPRnXeHiKE",
    "outputId": "7c0bc142-8ad2-4be1-d2f4-cc2185aac407"
   },
   "outputs": [
    {
     "data": {
      "text/plain": [
       "count    120.000000\n",
       "mean      41.583333\n",
       "std       32.620709\n",
       "min        1.000000\n",
       "25%       18.000000\n",
       "50%       30.500000\n",
       "75%       61.500000\n",
       "max      168.000000\n",
       "Name: Ozone, dtype: float64"
      ]
     },
     "execution_count": 125,
     "metadata": {},
     "output_type": "execute_result"
    }
   ],
   "source": [
    "#Descriptive stat\n",
    "data_cleaned3['Ozone'].describe()"
   ]
  },
  {
   "cell_type": "code",
   "execution_count": null,
   "metadata": {
    "colab": {
     "base_uri": "https://localhost:8080/",
     "height": 424
    },
    "executionInfo": {
     "elapsed": 524,
     "status": "ok",
     "timestamp": 1670306356367,
     "user": {
      "displayName": "ANANYA GHOSH",
      "userId": "07636421272032694955"
     },
     "user_tz": -330
    },
    "id": "BHsPIfTuHiKE",
    "outputId": "6e4e7d73-6fc7-417e-cd53-0a02452b46e3"
   },
   "outputs": [],
   "source": []
  },
  {
   "cell_type": "markdown",
   "metadata": {
    "id": "tQ0weaM7HiKL"
   },
   "source": [
    "# Scatter plot and Correlation analysis"
   ]
  },
  {
   "cell_type": "code",
   "execution_count": 127,
   "metadata": {
    "colab": {
     "base_uri": "https://localhost:8080/",
     "height": 1000
    },
    "executionInfo": {
     "elapsed": 38467,
     "status": "ok",
     "timestamp": 1670392061928,
     "user": {
      "displayName": "ANANYA GHOSH",
      "userId": "07636421272032694955"
     },
     "user_tz": -330
    },
    "id": "dHfySOtkHiKN",
    "outputId": "629a4da5-e310-497e-b1e4-8caa695828e9"
   },
   "outputs": [
    {
     "data": {
      "text/plain": [
       "<seaborn.axisgrid.PairGrid at 0x219203f2550>"
      ]
     },
     "execution_count": 127,
     "metadata": {},
     "output_type": "execute_result"
    },
    {
     "data": {
      "image/png": "[encoded data removed]",
      "text/plain": [
       "<Figure size 1750x1750 with 56 Axes>"
      ]
     },
     "metadata": {},
     "output_type": "display_data"
    }
   ],
   "source": [
    "import seaborn as sns\n",
    "sns.pairplot(data_cleaned3)"
   ]
  },
  {
   "cell_type": "code",
   "execution_count": null,
   "metadata": {},
   "outputs": [],
   "source": [
    "# here one can see relation between two different variables like Ozone with Temp , Solar with Temp etc.\n",
    "# one can check with positive or negative co relation or  neutral . also linear or non linear."
   ]
  },
  {
   "cell_type": "code",
   "execution_count": 128,
   "metadata": {},
   "outputs": [
    {
     "data": {
      "text/plain": [
       "Ozone      38\n",
       "Solar       7\n",
       "Wind        0\n",
       "Month       1\n",
       "Day         0\n",
       "Year        0\n",
       "Temp        0\n",
       "Weather     3\n",
       "dtype: int64"
      ]
     },
     "execution_count": 128,
     "metadata": {},
     "output_type": "execute_result"
    }
   ],
   "source": [
    "data_cleaned3.isnull().sum()"
   ]
  },
  {
   "cell_type": "code",
   "execution_count": 129,
   "metadata": {
    "colab": {
     "base_uri": "https://localhost:8080/",
     "height": 300
    },
    "executionInfo": {
     "elapsed": 366,
     "status": "ok",
     "timestamp": 1670392118197,
     "user": {
      "displayName": "ANANYA GHOSH",
      "userId": "07636421272032694955"
     },
     "user_tz": -330
    },
    "id": "dskrB3NkHiKN",
    "outputId": "c09e7374-ce65-437f-9543-8a1001d62695"
   },
   "outputs": [
    {
     "data": {
      "text/html": [
       "<div>\n",
       "<style scoped>\n",
       "    .dataframe tbody tr th:only-of-type {\n",
       "        vertical-align: middle;\n",
       "    }\n",
       "\n",
       "    .dataframe tbody tr th {\n",
       "        vertical-align: top;\n",
       "    }\n",
       "\n",
       "    .dataframe thead th {\n",
       "        text-align: right;\n",
       "    }\n",
       "</style>\n",
       "<table border=\"1\" class=\"dataframe\">\n",
       "  <thead>\n",
       "    <tr style=\"text-align: right;\">\n",
       "      <th></th>\n",
       "      <th>Ozone</th>\n",
       "      <th>Solar</th>\n",
       "      <th>Wind</th>\n",
       "      <th>Month</th>\n",
       "      <th>Day</th>\n",
       "      <th>Year</th>\n",
       "      <th>Temp</th>\n",
       "    </tr>\n",
       "  </thead>\n",
       "  <tbody>\n",
       "    <tr>\n",
       "      <th>Ozone</th>\n",
       "      <td>1.000000</td>\n",
       "      <td>0.348642</td>\n",
       "      <td>-0.593530</td>\n",
       "      <td>0.137356</td>\n",
       "      <td>-0.035055</td>\n",
       "      <td>NaN</td>\n",
       "      <td>0.694098</td>\n",
       "    </tr>\n",
       "    <tr>\n",
       "      <th>Solar</th>\n",
       "      <td>0.348642</td>\n",
       "      <td>1.000000</td>\n",
       "      <td>-0.056594</td>\n",
       "      <td>-0.092918</td>\n",
       "      <td>-0.154212</td>\n",
       "      <td>NaN</td>\n",
       "      <td>0.273322</td>\n",
       "    </tr>\n",
       "    <tr>\n",
       "      <th>Wind</th>\n",
       "      <td>-0.593530</td>\n",
       "      <td>-0.056594</td>\n",
       "      <td>1.000000</td>\n",
       "      <td>-0.153507</td>\n",
       "      <td>0.040151</td>\n",
       "      <td>NaN</td>\n",
       "      <td>-0.441247</td>\n",
       "    </tr>\n",
       "    <tr>\n",
       "      <th>Month</th>\n",
       "      <td>0.137356</td>\n",
       "      <td>-0.092918</td>\n",
       "      <td>-0.153507</td>\n",
       "      <td>1.000000</td>\n",
       "      <td>0.061236</td>\n",
       "      <td>NaN</td>\n",
       "      <td>0.393321</td>\n",
       "    </tr>\n",
       "    <tr>\n",
       "      <th>Day</th>\n",
       "      <td>-0.035055</td>\n",
       "      <td>-0.154212</td>\n",
       "      <td>0.040151</td>\n",
       "      <td>0.061236</td>\n",
       "      <td>1.000000</td>\n",
       "      <td>NaN</td>\n",
       "      <td>-0.124538</td>\n",
       "    </tr>\n",
       "    <tr>\n",
       "      <th>Year</th>\n",
       "      <td>NaN</td>\n",
       "      <td>NaN</td>\n",
       "      <td>NaN</td>\n",
       "      <td>NaN</td>\n",
       "      <td>NaN</td>\n",
       "      <td>NaN</td>\n",
       "      <td>NaN</td>\n",
       "    </tr>\n",
       "    <tr>\n",
       "      <th>Temp</th>\n",
       "      <td>0.694098</td>\n",
       "      <td>0.273322</td>\n",
       "      <td>-0.441247</td>\n",
       "      <td>0.393321</td>\n",
       "      <td>-0.124538</td>\n",
       "      <td>NaN</td>\n",
       "      <td>1.000000</td>\n",
       "    </tr>\n",
       "  </tbody>\n",
       "</table>\n",
       "</div>"
      ],
      "text/plain": [
       "          Ozone     Solar      Wind     Month       Day  Year      Temp\n",
       "Ozone  1.000000  0.348642 -0.593530  0.137356 -0.035055   NaN  0.694098\n",
       "Solar  0.348642  1.000000 -0.056594 -0.092918 -0.154212   NaN  0.273322\n",
       "Wind  -0.593530 -0.056594  1.000000 -0.153507  0.040151   NaN -0.441247\n",
       "Month  0.137356 -0.092918 -0.153507  1.000000  0.061236   NaN  0.393321\n",
       "Day   -0.035055 -0.154212  0.040151  0.061236  1.000000   NaN -0.124538\n",
       "Year        NaN       NaN       NaN       NaN       NaN   NaN       NaN\n",
       "Temp   0.694098  0.273322 -0.441247  0.393321 -0.124538   NaN  1.000000"
      ]
     },
     "execution_count": 129,
     "metadata": {},
     "output_type": "execute_result"
    }
   ],
   "source": [
    "#Correlation\n",
    "data_cleaned3.corr()"
   ]
  },
  {
   "cell_type": "code",
   "execution_count": 130,
   "metadata": {},
   "outputs": [],
   "source": [
    "#  here co relation value like Temp with Ozone is 0.69 , which is shows it is poisitive corelation\n",
    "# similarly There is negative co relation between Wind with Ozone , -0.59 , which is more "
   ]
  },
  {
   "cell_type": "markdown",
   "metadata": {
    "id": "4WOTS287HiKN"
   },
   "source": [
    "# Transformations"
   ]
  },
  {
   "cell_type": "markdown",
   "metadata": {
    "id": "TS52EC8XHiKO"
   },
   "source": [
    "## Dummy Variable"
   ]
  },
  {
   "cell_type": "code",
   "execution_count": 132,
   "metadata": {
    "colab": {
     "base_uri": "https://localhost:8080/",
     "height": 424
    },
    "executionInfo": {
     "elapsed": 596,
     "status": "ok",
     "timestamp": 1670392416702,
     "user": {
      "displayName": "ANANYA GHOSH",
      "userId": "07636421272032694955"
     },
     "user_tz": -330
    },
    "id": "KE-GFsvakqz6",
    "outputId": "8710f2de-d16d-4e3a-aeeb-a64e2b4c90fd"
   },
   "outputs": [
    {
     "data": {
      "text/html": [
       "<div>\n",
       "<style scoped>\n",
       "    .dataframe tbody tr th:only-of-type {\n",
       "        vertical-align: middle;\n",
       "    }\n",
       "\n",
       "    .dataframe tbody tr th {\n",
       "        vertical-align: top;\n",
       "    }\n",
       "\n",
       "    .dataframe thead th {\n",
       "        text-align: right;\n",
       "    }\n",
       "</style>\n",
       "<table border=\"1\" class=\"dataframe\">\n",
       "  <thead>\n",
       "    <tr style=\"text-align: right;\">\n",
       "      <th></th>\n",
       "      <th>Ozone</th>\n",
       "      <th>Solar</th>\n",
       "      <th>Wind</th>\n",
       "      <th>Month</th>\n",
       "      <th>Day</th>\n",
       "      <th>Year</th>\n",
       "      <th>Temp</th>\n",
       "      <th>Weather</th>\n",
       "    </tr>\n",
       "  </thead>\n",
       "  <tbody>\n",
       "    <tr>\n",
       "      <th>0</th>\n",
       "      <td>41.0</td>\n",
       "      <td>190.0</td>\n",
       "      <td>7.4</td>\n",
       "      <td>5.0</td>\n",
       "      <td>1</td>\n",
       "      <td>2010</td>\n",
       "      <td>67</td>\n",
       "      <td>S</td>\n",
       "    </tr>\n",
       "    <tr>\n",
       "      <th>1</th>\n",
       "      <td>36.0</td>\n",
       "      <td>118.0</td>\n",
       "      <td>8.0</td>\n",
       "      <td>5.0</td>\n",
       "      <td>2</td>\n",
       "      <td>2010</td>\n",
       "      <td>72</td>\n",
       "      <td>C</td>\n",
       "    </tr>\n",
       "    <tr>\n",
       "      <th>2</th>\n",
       "      <td>12.0</td>\n",
       "      <td>149.0</td>\n",
       "      <td>12.6</td>\n",
       "      <td>5.0</td>\n",
       "      <td>3</td>\n",
       "      <td>2010</td>\n",
       "      <td>74</td>\n",
       "      <td>PS</td>\n",
       "    </tr>\n",
       "    <tr>\n",
       "      <th>3</th>\n",
       "      <td>18.0</td>\n",
       "      <td>313.0</td>\n",
       "      <td>11.5</td>\n",
       "      <td>5.0</td>\n",
       "      <td>4</td>\n",
       "      <td>2010</td>\n",
       "      <td>62</td>\n",
       "      <td>S</td>\n",
       "    </tr>\n",
       "    <tr>\n",
       "      <th>4</th>\n",
       "      <td>NaN</td>\n",
       "      <td>NaN</td>\n",
       "      <td>14.3</td>\n",
       "      <td>5.0</td>\n",
       "      <td>5</td>\n",
       "      <td>2010</td>\n",
       "      <td>56</td>\n",
       "      <td>S</td>\n",
       "    </tr>\n",
       "  </tbody>\n",
       "</table>\n",
       "</div>"
      ],
      "text/plain": [
       "   Ozone  Solar  Wind  Month  Day  Year  Temp Weather\n",
       "0   41.0  190.0   7.4    5.0    1  2010    67       S\n",
       "1   36.0  118.0   8.0    5.0    2  2010    72       C\n",
       "2   12.0  149.0  12.6    5.0    3  2010    74      PS\n",
       "3   18.0  313.0  11.5    5.0    4  2010    62       S\n",
       "4    NaN    NaN  14.3    5.0    5  2010    56       S"
      ]
     },
     "execution_count": 132,
     "metadata": {},
     "output_type": "execute_result"
    }
   ],
   "source": [
    "data_cleaned3.head()"
   ]
  },
  {
   "cell_type": "code",
   "execution_count": 133,
   "metadata": {
    "id": "RupoWQgJHiKO"
   },
   "outputs": [],
   "source": [
    "#Creating dummy variable for Weather column\n",
    "data_cleaned4=pd.get_dummies(data_cleaned3,columns=['Weather']) \n",
    "# if true false instead of 0 and 1 , use following code.\n",
    "#data_cleaned4 = pd.get_dummies(data_cleaned3, columns=['Weather']).astype(int)"
   ]
  },
  {
   "cell_type": "code",
   "execution_count": 134,
   "metadata": {
    "colab": {
     "base_uri": "https://localhost:8080/",
     "height": 424
    },
    "executionInfo": {
     "elapsed": 352,
     "status": "ok",
     "timestamp": 1670392476408,
     "user": {
      "displayName": "ANANYA GHOSH",
      "userId": "07636421272032694955"
     },
     "user_tz": -330
    },
    "id": "EZkLioq4HiKO",
    "outputId": "f4fd4658-dcf6-4c52-d311-1827537caddf"
   },
   "outputs": [
    {
     "data": {
      "text/html": [
       "<div>\n",
       "<style scoped>\n",
       "    .dataframe tbody tr th:only-of-type {\n",
       "        vertical-align: middle;\n",
       "    }\n",
       "\n",
       "    .dataframe tbody tr th {\n",
       "        vertical-align: top;\n",
       "    }\n",
       "\n",
       "    .dataframe thead th {\n",
       "        text-align: right;\n",
       "    }\n",
       "</style>\n",
       "<table border=\"1\" class=\"dataframe\">\n",
       "  <thead>\n",
       "    <tr style=\"text-align: right;\">\n",
       "      <th></th>\n",
       "      <th>Ozone</th>\n",
       "      <th>Solar</th>\n",
       "      <th>Wind</th>\n",
       "      <th>Month</th>\n",
       "      <th>Day</th>\n",
       "      <th>Year</th>\n",
       "      <th>Temp</th>\n",
       "      <th>Weather_C</th>\n",
       "      <th>Weather_PS</th>\n",
       "      <th>Weather_S</th>\n",
       "    </tr>\n",
       "  </thead>\n",
       "  <tbody>\n",
       "    <tr>\n",
       "      <th>0</th>\n",
       "      <td>41.0</td>\n",
       "      <td>190.0</td>\n",
       "      <td>7.4</td>\n",
       "      <td>5.0</td>\n",
       "      <td>1</td>\n",
       "      <td>2010</td>\n",
       "      <td>67</td>\n",
       "      <td>0</td>\n",
       "      <td>0</td>\n",
       "      <td>1</td>\n",
       "    </tr>\n",
       "    <tr>\n",
       "      <th>1</th>\n",
       "      <td>36.0</td>\n",
       "      <td>118.0</td>\n",
       "      <td>8.0</td>\n",
       "      <td>5.0</td>\n",
       "      <td>2</td>\n",
       "      <td>2010</td>\n",
       "      <td>72</td>\n",
       "      <td>1</td>\n",
       "      <td>0</td>\n",
       "      <td>0</td>\n",
       "    </tr>\n",
       "    <tr>\n",
       "      <th>2</th>\n",
       "      <td>12.0</td>\n",
       "      <td>149.0</td>\n",
       "      <td>12.6</td>\n",
       "      <td>5.0</td>\n",
       "      <td>3</td>\n",
       "      <td>2010</td>\n",
       "      <td>74</td>\n",
       "      <td>0</td>\n",
       "      <td>1</td>\n",
       "      <td>0</td>\n",
       "    </tr>\n",
       "    <tr>\n",
       "      <th>3</th>\n",
       "      <td>18.0</td>\n",
       "      <td>313.0</td>\n",
       "      <td>11.5</td>\n",
       "      <td>5.0</td>\n",
       "      <td>4</td>\n",
       "      <td>2010</td>\n",
       "      <td>62</td>\n",
       "      <td>0</td>\n",
       "      <td>0</td>\n",
       "      <td>1</td>\n",
       "    </tr>\n",
       "    <tr>\n",
       "      <th>4</th>\n",
       "      <td>NaN</td>\n",
       "      <td>NaN</td>\n",
       "      <td>14.3</td>\n",
       "      <td>5.0</td>\n",
       "      <td>5</td>\n",
       "      <td>2010</td>\n",
       "      <td>56</td>\n",
       "      <td>0</td>\n",
       "      <td>0</td>\n",
       "      <td>1</td>\n",
       "    </tr>\n",
       "    <tr>\n",
       "      <th>...</th>\n",
       "      <td>...</td>\n",
       "      <td>...</td>\n",
       "      <td>...</td>\n",
       "      <td>...</td>\n",
       "      <td>...</td>\n",
       "      <td>...</td>\n",
       "      <td>...</td>\n",
       "      <td>...</td>\n",
       "      <td>...</td>\n",
       "      <td>...</td>\n",
       "    </tr>\n",
       "    <tr>\n",
       "      <th>153</th>\n",
       "      <td>41.0</td>\n",
       "      <td>190.0</td>\n",
       "      <td>7.4</td>\n",
       "      <td>5.0</td>\n",
       "      <td>1</td>\n",
       "      <td>2010</td>\n",
       "      <td>67</td>\n",
       "      <td>1</td>\n",
       "      <td>0</td>\n",
       "      <td>0</td>\n",
       "    </tr>\n",
       "    <tr>\n",
       "      <th>154</th>\n",
       "      <td>30.0</td>\n",
       "      <td>193.0</td>\n",
       "      <td>6.9</td>\n",
       "      <td>9.0</td>\n",
       "      <td>26</td>\n",
       "      <td>2010</td>\n",
       "      <td>70</td>\n",
       "      <td>0</td>\n",
       "      <td>1</td>\n",
       "      <td>0</td>\n",
       "    </tr>\n",
       "    <tr>\n",
       "      <th>155</th>\n",
       "      <td>NaN</td>\n",
       "      <td>145.0</td>\n",
       "      <td>13.2</td>\n",
       "      <td>9.0</td>\n",
       "      <td>27</td>\n",
       "      <td>2010</td>\n",
       "      <td>77</td>\n",
       "      <td>0</td>\n",
       "      <td>0</td>\n",
       "      <td>1</td>\n",
       "    </tr>\n",
       "    <tr>\n",
       "      <th>156</th>\n",
       "      <td>14.0</td>\n",
       "      <td>191.0</td>\n",
       "      <td>14.3</td>\n",
       "      <td>9.0</td>\n",
       "      <td>28</td>\n",
       "      <td>2010</td>\n",
       "      <td>75</td>\n",
       "      <td>0</td>\n",
       "      <td>0</td>\n",
       "      <td>1</td>\n",
       "    </tr>\n",
       "    <tr>\n",
       "      <th>157</th>\n",
       "      <td>18.0</td>\n",
       "      <td>131.0</td>\n",
       "      <td>8.0</td>\n",
       "      <td>9.0</td>\n",
       "      <td>29</td>\n",
       "      <td>2010</td>\n",
       "      <td>76</td>\n",
       "      <td>1</td>\n",
       "      <td>0</td>\n",
       "      <td>0</td>\n",
       "    </tr>\n",
       "  </tbody>\n",
       "</table>\n",
       "<p>158 rows × 10 columns</p>\n",
       "</div>"
      ],
      "text/plain": [
       "     Ozone  Solar  Wind  Month  Day  Year  Temp  Weather_C  Weather_PS  \\\n",
       "0     41.0  190.0   7.4    5.0    1  2010    67          0           0   \n",
       "1     36.0  118.0   8.0    5.0    2  2010    72          1           0   \n",
       "2     12.0  149.0  12.6    5.0    3  2010    74          0           1   \n",
       "3     18.0  313.0  11.5    5.0    4  2010    62          0           0   \n",
       "4      NaN    NaN  14.3    5.0    5  2010    56          0           0   \n",
       "..     ...    ...   ...    ...  ...   ...   ...        ...         ...   \n",
       "153   41.0  190.0   7.4    5.0    1  2010    67          1           0   \n",
       "154   30.0  193.0   6.9    9.0   26  2010    70          0           1   \n",
       "155    NaN  145.0  13.2    9.0   27  2010    77          0           0   \n",
       "156   14.0  191.0  14.3    9.0   28  2010    75          0           0   \n",
       "157   18.0  131.0   8.0    9.0   29  2010    76          1           0   \n",
       "\n",
       "     Weather_S  \n",
       "0            1  \n",
       "1            0  \n",
       "2            0  \n",
       "3            1  \n",
       "4            1  \n",
       "..         ...  \n",
       "153          0  \n",
       "154          0  \n",
       "155          1  \n",
       "156          1  \n",
       "157          0  \n",
       "\n",
       "[158 rows x 10 columns]"
      ]
     },
     "execution_count": 134,
     "metadata": {},
     "output_type": "execute_result"
    }
   ],
   "source": [
    "data_cleaned4"
   ]
  },
  {
   "cell_type": "code",
   "execution_count": null,
   "metadata": {},
   "outputs": [],
   "source": [
    "# Weather column is converted into Weather_C , Weather_PS and Weather_S are created with one column \n",
    "# value as 1 , rest are 0 "
   ]
  },
  {
   "cell_type": "code",
   "execution_count": 135,
   "metadata": {
    "id": "iKQogaS7HiKO"
   },
   "outputs": [],
   "source": [
    "data_cleaned4=data_cleaned4.dropna()"
   ]
  },
  {
   "cell_type": "markdown",
   "metadata": {
    "id": "ehi7ugQYHiKP"
   },
   "source": [
    "## Normalization of the data"
   ]
  },
  {
   "attachments": {
    "Screenshot%202025-01-11%20231511.png": {
     "image/png": "[encoded data removed]"
    }
   },
   "cell_type": "markdown",
   "metadata": {},
   "source": [
    "![Screenshot%202025-01-11%20231511.png](attachment:Screenshot%202025-01-11%20231511.png)"
   ]
  },
  {
   "cell_type": "code",
   "execution_count": null,
   "metadata": {},
   "outputs": [],
   "source": []
  },
  {
   "cell_type": "code",
   "execution_count": 72,
   "metadata": {
    "id": "DKg5RtWjHiKP"
   },
   "outputs": [],
   "source": [
    "#Normalization of the data\n",
    "from numpy import set_printoptions\n",
    "from sklearn.preprocessing import MinMaxScaler"
   ]
  },
  {
   "cell_type": "code",
   "execution_count": 73,
   "metadata": {
    "colab": {
     "base_uri": "https://localhost:8080/"
    },
    "collapsed": true,
    "executionInfo": {
     "elapsed": 339,
     "status": "ok",
     "timestamp": 1670392671123,
     "user": {
      "displayName": "ANANYA GHOSH",
      "userId": "07636421272032694955"
     },
     "user_tz": -330
    },
    "id": "EGcezS3zHiKP",
    "outputId": "a3602ba7-2774-4c7e-dd09-6ed46e2f3b7d"
   },
   "outputs": [
    {
     "data": {
      "text/plain": [
       "array([[  1.        ,  41.        , 190.        , ...,   0.        ,\n",
       "          0.        ,   1.        ],\n",
       "       [  2.        ,  36.        , 118.        , ...,   1.        ,\n",
       "          0.        ,   0.        ],\n",
       "       [  3.        ,  12.        , 149.        , ...,   0.        ,\n",
       "          1.        ,   0.        ],\n",
       "       ...,\n",
       "       [156.        ,  41.58333333, 145.        , ...,   0.        ,\n",
       "          0.        ,   1.        ],\n",
       "       [157.        ,  14.        , 191.        , ...,   0.        ,\n",
       "          0.        ,   1.        ],\n",
       "       [158.        ,  18.        , 131.        , ...,   1.        ,\n",
       "          0.        ,   0.        ]])"
      ]
     },
     "execution_count": 73,
     "metadata": {},
     "output_type": "execute_result"
    }
   ],
   "source": [
    "data_cleaned4.values"
   ]
  },
  {
   "cell_type": "code",
   "execution_count": 74,
   "metadata": {
    "colab": {
     "base_uri": "https://localhost:8080/"
    },
    "collapsed": true,
    "executionInfo": {
     "elapsed": 427,
     "status": "ok",
     "timestamp": 1670392737540,
     "user": {
      "displayName": "ANANYA GHOSH",
      "userId": "07636421272032694955"
     },
     "user_tz": -330
    },
    "id": "AN8Uu0vwHiKP",
    "outputId": "9c0a4127-726d-4a61-f5e0-b48e2e0763ea"
   },
   "outputs": [
    {
     "data": {
      "text/plain": [
       "array([[  1.        ,  41.        , 190.        , ...,   0.        ,\n",
       "          0.        ,   1.        ],\n",
       "       [  2.        ,  36.        , 118.        , ...,   1.        ,\n",
       "          0.        ,   0.        ],\n",
       "       [  3.        ,  12.        , 149.        , ...,   0.        ,\n",
       "          1.        ,   0.        ],\n",
       "       ...,\n",
       "       [156.        ,  41.58333333, 145.        , ...,   0.        ,\n",
       "          0.        ,   1.        ],\n",
       "       [157.        ,  14.        , 191.        , ...,   0.        ,\n",
       "          0.        ,   1.        ],\n",
       "       [158.        ,  18.        , 131.        , ...,   1.        ,\n",
       "          0.        ,   0.        ]])"
      ]
     },
     "execution_count": 74,
     "metadata": {},
     "output_type": "execute_result"
    }
   ],
   "source": [
    "array = data_cleaned4.values\n",
    "array"
   ]
  },
  {
   "cell_type": "code",
   "execution_count": 75,
   "metadata": {},
   "outputs": [],
   "source": [
    "scaler = MinMaxScaler(feature_range=(0,1))\n",
    "rescaledX = scaler.fit_transform(array)"
   ]
  },
  {
   "cell_type": "code",
   "execution_count": 76,
   "metadata": {},
   "outputs": [
    {
     "name": "stdout",
     "output_type": "stream",
     "text": [
      "[[0.   0.24 0.56 0.3  0.   0.   0.   0.25 0.   0.   1.  ]\n",
      " [0.01 0.21 0.34 0.33 0.   0.03 0.   0.38 1.   0.   0.  ]\n",
      " [0.01 0.07 0.43 0.57 0.   0.07 0.   0.43 0.   1.   0.  ]\n",
      " [0.02 0.1  0.94 0.52 0.   0.1  0.   0.12 0.   0.   1.  ]\n",
      " [0.04 0.13 0.89 0.36 0.   0.2  0.   0.2  0.   1.   0.  ]]\n"
     ]
    }
   ],
   "source": [
    "#transformed data\n",
    "set_printoptions(precision=2)\n",
    "print(rescaledX[0:5,:])"
   ]
  },
  {
   "attachments": {
    "Screenshot%202025-01-11%20231645.png": {
     "image/png": "[encoded data removed]"
    }
   },
   "cell_type": "markdown",
   "metadata": {},
   "source": [
    "![Screenshot%202025-01-11%20231645.png](attachment:Screenshot%202025-01-11%20231645.png)"
   ]
  },
  {
   "cell_type": "code",
   "execution_count": 77,
   "metadata": {
    "id": "9yGmyu1bHiKQ"
   },
   "outputs": [],
   "source": [
    "# Standardize data (0 mean, 1 stdev)\n",
    "from sklearn.preprocessing import StandardScaler"
   ]
  },
  {
   "cell_type": "code",
   "execution_count": 78,
   "metadata": {
    "colab": {
     "base_uri": "https://localhost:8080/"
    },
    "executionInfo": {
     "elapsed": 580,
     "status": "ok",
     "timestamp": 1670393071191,
     "user": {
      "displayName": "ANANYA GHOSH",
      "userId": "07636421272032694955"
     },
     "user_tz": -330
    },
    "id": "9FlRafHGHiKQ",
    "outputId": "a2749491-24ab-4ca2-da36-50765e23d911",
    "scrolled": true
   },
   "outputs": [
    {
     "name": "stdout",
     "output_type": "stream",
     "text": [
      "[[-1.78 -0.02  0.04 -0.74 -1.47 -1.71  0.   -1.22 -0.65 -0.67  1.28]\n",
      " [-1.76 -0.2  -0.77 -0.57 -1.47 -1.6   0.   -0.67  1.53 -0.67 -0.78]\n",
      " [-1.73 -1.03 -0.42  0.75 -1.47 -1.49  0.   -0.45 -0.65  1.5  -0.78]\n",
      " [-1.71 -0.82  1.44  0.43 -1.47 -1.38  0.   -1.78 -0.65 -0.67  1.28]\n",
      " [-1.65 -0.65  1.28 -0.4  -1.47 -1.04  0.   -1.45 -0.65  1.5  -0.78]]\n"
     ]
    }
   ],
   "source": [
    "array = data_cleaned4.values\n",
    "scaler = StandardScaler()\n",
    "scaler.fit(array)\n",
    "rescaledX = scaler.transform(array)\n",
    "\n",
    "# summarize transformed data\n",
    "set_printoptions(precision=2)\n",
    "print(rescaledX[0:5,:])"
   ]
  },
  {
   "cell_type": "code",
   "execution_count": null,
   "metadata": {},
   "outputs": [],
   "source": [
    "# here data has been normalized between -2 to 2 , and this data is generalized ,\n",
    "# hence it can be used, for further modeling where , model will not be biased on any feature."
   ]
  }
 ],
 "metadata": {
  "colab": {
   "collapsed_sections": [
    "8968iyvu6iJY"
   ],
   "provenance": []
  },
  "kernelspec": {
   "display_name": "Python 3 (ipykernel)",
   "language": "python",
   "name": "python3"
  },
  "language_info": {
   "codemirror_mode": {
    "name": "ipython",
    "version": 3
   },
   "file_extension": ".py",
   "mimetype": "text/x-python",
   "name": "python",
   "nbconvert_exporter": "python",
   "pygments_lexer": "ipython3",
   "version": "3.9.13"
  },
  "widgets": {
   "application/vnd.jupyter.widget-state+json": {
    "0f1e4ef47a90455b83d83eb734c76d4e": {
     "model_module": "@jupyter-widgets/controls",
     "model_module_version": "1.5.0",
     "model_name": "HTMLModel",
     "state": {
      "_dom_classes": [],
      "_model_module": "@jupyter-widgets/controls",
      "_model_module_version": "1.5.0",
      "_model_name": "HTMLModel",
      "_view_count": null,
      "_view_module": "@jupyter-widgets/controls",
      "_view_module_version": "1.5.0",
      "_view_name": "HTMLView",
      "description": "",
      "description_tooltip": null,
      "layout": "IPY_MODEL_9eec1b575f8a45e58b19e85f47995277",
      "placeholder": "​",
      "style": "IPY_MODEL_785765a8c42d4efcb0d5c5160bab0886",
      "value": " [100%]   00:00 -&gt; (00:00 left)"
     }
    },
    "230d04f1ae814c69ae33530d1ccd398a": {
     "model_module": "@jupyter-widgets/controls",
     "model_module_version": "1.5.0",
     "model_name": "FloatProgressModel",
     "state": {
      "_dom_classes": [],
      "_model_module": "@jupyter-widgets/controls",
      "_model_module_version": "1.5.0",
      "_model_name": "FloatProgressModel",
      "_view_count": null,
      "_view_module": "@jupyter-widgets/controls",
      "_view_module_version": "1.5.0",
      "_view_name": "ProgressView",
      "bar_style": "success",
      "description": "",
      "description_tooltip": null,
      "layout": "IPY_MODEL_b7150e9fb3154ebab34224bf7562eb1e",
      "max": 1,
      "min": 0,
      "orientation": "horizontal",
      "style": "IPY_MODEL_3f1013f9c2c34691b2a789aa2de91328",
      "value": 1
     }
    },
    "3f1013f9c2c34691b2a789aa2de91328": {
     "model_module": "@jupyter-widgets/controls",
     "model_module_version": "1.5.0",
     "model_name": "ProgressStyleModel",
     "state": {
      "_model_module": "@jupyter-widgets/controls",
      "_model_module_version": "1.5.0",
      "_model_name": "ProgressStyleModel",
      "_view_count": null,
      "_view_module": "@jupyter-widgets/base",
      "_view_module_version": "1.2.0",
      "_view_name": "StyleView",
      "bar_color": null,
      "description_width": ""
     }
    },
    "6bec4a66e2f14269ba8f2fbdfe586d65": {
     "model_module": "@jupyter-widgets/controls",
     "model_module_version": "1.5.0",
     "model_name": "DescriptionStyleModel",
     "state": {
      "_model_module": "@jupyter-widgets/controls",
      "_model_module_version": "1.5.0",
      "_model_name": "DescriptionStyleModel",
      "_view_count": null,
      "_view_module": "@jupyter-widgets/base",
      "_view_module_version": "1.2.0",
      "_view_name": "StyleView",
      "description_width": ""
     }
    },
    "785765a8c42d4efcb0d5c5160bab0886": {
     "model_module": "@jupyter-widgets/controls",
     "model_module_version": "1.5.0",
     "model_name": "DescriptionStyleModel",
     "state": {
      "_model_module": "@jupyter-widgets/controls",
      "_model_module_version": "1.5.0",
      "_model_name": "DescriptionStyleModel",
      "_view_count": null,
      "_view_module": "@jupyter-widgets/base",
      "_view_module_version": "1.2.0",
      "_view_name": "StyleView",
      "description_width": ""
     }
    },
    "8a08f6b18ced4541a1bbef765229b255": {
     "model_module": "@jupyter-widgets/controls",
     "model_module_version": "1.5.0",
     "model_name": "HBoxModel",
     "state": {
      "_dom_classes": [],
      "_model_module": "@jupyter-widgets/controls",
      "_model_module_version": "1.5.0",
      "_model_name": "HBoxModel",
      "_view_count": null,
      "_view_module": "@jupyter-widgets/controls",
      "_view_module_version": "1.5.0",
      "_view_name": "HBoxView",
      "box_style": "",
      "children": [
       "IPY_MODEL_e5b68095e3e34bb3ba57dab815211b4c",
       "IPY_MODEL_230d04f1ae814c69ae33530d1ccd398a",
       "IPY_MODEL_0f1e4ef47a90455b83d83eb734c76d4e"
      ],
      "layout": "IPY_MODEL_d1866b36dee14ca6b97bfeac7a14820a"
     }
    },
    "956770baf53642f28302c34e604990c3": {
     "model_module": "@jupyter-widgets/base",
     "model_module_version": "1.2.0",
     "model_name": "LayoutModel",
     "state": {
      "_model_module": "@jupyter-widgets/base",
      "_model_module_version": "1.2.0",
      "_model_name": "LayoutModel",
      "_view_count": null,
      "_view_module": "@jupyter-widgets/base",
      "_view_module_version": "1.2.0",
      "_view_name": "LayoutView",
      "align_content": null,
      "align_items": null,
      "align_self": null,
      "border": null,
      "bottom": null,
      "display": null,
      "flex": null,
      "flex_flow": null,
      "grid_area": null,
      "grid_auto_columns": null,
      "grid_auto_flow": null,
      "grid_auto_rows": null,
      "grid_column": null,
      "grid_gap": null,
      "grid_row": null,
      "grid_template_areas": null,
      "grid_template_columns": null,
      "grid_template_rows": null,
      "height": null,
      "justify_content": null,
      "justify_items": null,
      "left": null,
      "margin": null,
      "max_height": null,
      "max_width": null,
      "min_height": null,
      "min_width": null,
      "object_fit": null,
      "object_position": null,
      "order": null,
      "overflow": null,
      "overflow_x": null,
      "overflow_y": null,
      "padding": null,
      "right": null,
      "top": null,
      "visibility": null,
      "width": null
     }
    },
    "9eec1b575f8a45e58b19e85f47995277": {
     "model_module": "@jupyter-widgets/base",
     "model_module_version": "1.2.0",
     "model_name": "LayoutModel",
     "state": {
      "_model_module": "@jupyter-widgets/base",
      "_model_module_version": "1.2.0",
      "_model_name": "LayoutModel",
      "_view_count": null,
      "_view_module": "@jupyter-widgets/base",
      "_view_module_version": "1.2.0",
      "_view_name": "LayoutView",
      "align_content": null,
      "align_items": null,
      "align_self": null,
      "border": null,
      "bottom": null,
      "display": null,
      "flex": null,
      "flex_flow": null,
      "grid_area": null,
      "grid_auto_columns": null,
      "grid_auto_flow": null,
      "grid_auto_rows": null,
      "grid_column": null,
      "grid_gap": null,
      "grid_row": null,
      "grid_template_areas": null,
      "grid_template_columns": null,
      "grid_template_rows": null,
      "height": null,
      "justify_content": null,
      "justify_items": null,
      "left": null,
      "margin": null,
      "max_height": null,
      "max_width": null,
      "min_height": null,
      "min_width": null,
      "object_fit": null,
      "object_position": null,
      "order": null,
      "overflow": null,
      "overflow_x": null,
      "overflow_y": null,
      "padding": null,
      "right": null,
      "top": null,
      "visibility": null,
      "width": null
     }
    },
    "b7150e9fb3154ebab34224bf7562eb1e": {
     "model_module": "@jupyter-widgets/base",
     "model_module_version": "1.2.0",
     "model_name": "LayoutModel",
     "state": {
      "_model_module": "@jupyter-widgets/base",
      "_model_module_version": "1.2.0",
      "_model_name": "LayoutModel",
      "_view_count": null,
      "_view_module": "@jupyter-widgets/base",
      "_view_module_version": "1.2.0",
      "_view_name": "LayoutView",
      "align_content": null,
      "align_items": null,
      "align_self": null,
      "border": null,
      "bottom": null,
      "display": null,
      "flex": "2",
      "flex_flow": null,
      "grid_area": null,
      "grid_auto_columns": null,
      "grid_auto_flow": null,
      "grid_auto_rows": null,
      "grid_column": null,
      "grid_gap": null,
      "grid_row": null,
      "grid_template_areas": null,
      "grid_template_columns": null,
      "grid_template_rows": null,
      "height": null,
      "justify_content": null,
      "justify_items": null,
      "left": null,
      "margin": null,
      "max_height": null,
      "max_width": null,
      "min_height": null,
      "min_width": null,
      "object_fit": null,
      "object_position": null,
      "order": null,
      "overflow": null,
      "overflow_x": null,
      "overflow_y": null,
      "padding": null,
      "right": null,
      "top": null,
      "visibility": null,
      "width": null
     }
    },
    "d1866b36dee14ca6b97bfeac7a14820a": {
     "model_module": "@jupyter-widgets/base",
     "model_module_version": "1.2.0",
     "model_name": "LayoutModel",
     "state": {
      "_model_module": "@jupyter-widgets/base",
      "_model_module_version": "1.2.0",
      "_model_name": "LayoutModel",
      "_view_count": null,
      "_view_module": "@jupyter-widgets/base",
      "_view_module_version": "1.2.0",
      "_view_name": "LayoutView",
      "align_content": null,
      "align_items": null,
      "align_self": null,
      "border": null,
      "bottom": null,
      "display": "inline-flex",
      "flex": null,
      "flex_flow": "row wrap",
      "grid_area": null,
      "grid_auto_columns": null,
      "grid_auto_flow": null,
      "grid_auto_rows": null,
      "grid_column": null,
      "grid_gap": null,
      "grid_row": null,
      "grid_template_areas": null,
      "grid_template_columns": null,
      "grid_template_rows": null,
      "height": null,
      "justify_content": null,
      "justify_items": null,
      "left": null,
      "margin": null,
      "max_height": null,
      "max_width": null,
      "min_height": null,
      "min_width": null,
      "object_fit": null,
      "object_position": null,
      "order": null,
      "overflow": null,
      "overflow_x": null,
      "overflow_y": null,
      "padding": null,
      "right": null,
      "top": null,
      "visibility": null,
      "width": "100%"
     }
    },
    "e5b68095e3e34bb3ba57dab815211b4c": {
     "model_module": "@jupyter-widgets/controls",
     "model_module_version": "1.5.0",
     "model_name": "HTMLModel",
     "state": {
      "_dom_classes": [],
      "_model_module": "@jupyter-widgets/controls",
      "_model_module_version": "1.5.0",
      "_model_name": "HTMLModel",
      "_view_count": null,
      "_view_module": "@jupyter-widgets/controls",
      "_view_module_version": "1.5.0",
      "_view_name": "HTMLView",
      "description": "",
      "description_tooltip": null,
      "layout": "IPY_MODEL_956770baf53642f28302c34e604990c3",
      "placeholder": "​",
      "style": "IPY_MODEL_6bec4a66e2f14269ba8f2fbdfe586d65",
      "value": "Done! Use &#x27;show&#x27; commands to display/save.   "
     }
    }
   }
  }
 },
 "nbformat": 4,
 "nbformat_minor": 1
}
